{
 "cells": [
  {
   "cell_type": "code",
   "execution_count": 1,
   "metadata": {},
   "outputs": [],
   "source": [
    "import pandas as pd\n",
    "import random\n",
    "import wordninja"
   ]
  },
  {
   "cell_type": "code",
   "execution_count": 2,
   "metadata": {},
   "outputs": [],
   "source": [
    "pos_locations = ['positive data/spring-boot_labeled_sentences.csv','positive data/facebook_labeled_sentences.csv',\n",
    "                 'positive data/tensorflow_labeled_sentences.csv','positive data/vscode_labeled_sentences.csv',\n",
    "                 'positive data/flutter_labeled_sentences.csv']\n",
    "q_locations = ['data/spring-boot_PRs.txt','data/facebook_PRs.txt',\n",
    "               'data/tensorflow_PRs.txt','data/vscode_PRs.txt',\n",
    "               'data/flutter_PRs.txt']"
   ]
  },
  {
   "cell_type": "code",
   "execution_count": 3,
   "metadata": {},
   "outputs": [],
   "source": [
    "def get_dataset(loc1,loc2):\n",
    "    df = pd.read_csv(loc1)\n",
    "    df2 = pd.read_table(loc2, sep = ',')\n",
    "    issue_id = df.values[:,1].tolist()\n",
    "    lbl_lst = df.values[:,3].tolist()\n",
    "    all_issue = df2.values[:,1].tolist()\n",
    "    question_lst = df2.values[:,11].tolist()\n",
    "    title_lst = df2.values[:,7].tolist()\n",
    "\n",
    "    newdic = dict(zip(issue_id,lbl_lst))\n",
    "    pos_issue = list(set([i for i,j in newdic.items() if j == 0]))\n",
    "    all_neg_issue = list(set([x for x in all_issue if x not in issue_id]))\n",
    "    neg_issue = random.sample(all_neg_issue,len(pos_issue))\n",
    "    pos_question = [q for t,q,i in zip(title_lst,question_lst,all_issue) if i in pos_issue]\n",
    "    pos_title = [t for t,q,i in zip(title_lst,question_lst,all_issue) if i in pos_issue]\n",
    "\n",
    "    neg_question = [q for t,q,i in zip(title_lst,question_lst,all_issue) if i in neg_issue]\n",
    "    neg_title = [t for t,q,i in zip(title_lst,question_lst,all_issue) if i in neg_issue]\n",
    "\n",
    "    title_lst = pos_title + neg_title\n",
    "    question_lst= pos_question + neg_question\n",
    "    lable_lst = [1 for i in range(len(pos_question))] + [0 for i in range(len(neg_question))]\n",
    "    \n",
    "    return title_lst,question_lst,lable_lst\n"
   ]
  },
  {
   "cell_type": "code",
   "execution_count": 4,
   "metadata": {},
   "outputs": [
    {
     "name": "stdout",
     "output_type": "stream",
     "text": [
      "29903\n",
      "29903\n",
      "29903\n"
     ]
    }
   ],
   "source": [
    "title_list = []\n",
    "question_list = []\n",
    "lable_list = []\n",
    "for loc1,loc2 in zip(pos_locations,q_locations):\n",
    "    t1,q1,l1 = get_dataset(loc1,loc2)\n",
    "    title_list +=t1\n",
    "    question_list+=q1\n",
    "    lable_list+=l1\n",
    "    \n",
    "print(len(title_list))\n",
    "print(len(question_list))\n",
    "print(len(lable_list))\n"
   ]
  },
  {
   "cell_type": "code",
   "execution_count": 5,
   "metadata": {},
   "outputs": [
    {
     "name": "stdout",
     "output_type": "stream",
     "text": [
      "(29903, 3)\n",
      "(29016, 3)\n"
     ]
    },
    {
     "data": {
      "text/html": [
       "<div>\n",
       "<style scoped>\n",
       "    .dataframe tbody tr th:only-of-type {\n",
       "        vertical-align: middle;\n",
       "    }\n",
       "\n",
       "    .dataframe tbody tr th {\n",
       "        vertical-align: top;\n",
       "    }\n",
       "\n",
       "    .dataframe thead th {\n",
       "        text-align: right;\n",
       "    }\n",
       "</style>\n",
       "<table border=\"1\" class=\"dataframe\">\n",
       "  <thead>\n",
       "    <tr style=\"text-align: right;\">\n",
       "      <th></th>\n",
       "      <th>title</th>\n",
       "      <th>body</th>\n",
       "      <th>label</th>\n",
       "    </tr>\n",
       "  </thead>\n",
       "  <tbody>\n",
       "    <tr>\n",
       "      <th>0</th>\n",
       "      <td>possible to use spring-boot on android develop...</td>\n",
       "      <td>&lt;!-- thanks for raising a spring boot issue. p...</td>\n",
       "      <td>1</td>\n",
       "    </tr>\n",
       "    <tr>\n",
       "      <th>1</th>\n",
       "      <td>how do i use a custom websockethandler when i ...</td>\n",
       "      <td>my code is like this  ```java @configuration @...</td>\n",
       "      <td>1</td>\n",
       "    </tr>\n",
       "    <tr>\n",
       "      <th>3</th>\n",
       "      <td>can i use a higher version of the `spring-boot...</td>\n",
       "      <td>can i use a higher version of the `spring-boot...</td>\n",
       "      <td>1</td>\n",
       "    </tr>\n",
       "    <tr>\n",
       "      <th>4</th>\n",
       "      <td>webflux functional endpoints authentication</td>\n",
       "      <td>i only found the documentation about authentic...</td>\n",
       "      <td>1</td>\n",
       "    </tr>\n",
       "    <tr>\n",
       "      <th>5</th>\n",
       "      <td>document that the minimum supported version of...</td>\n",
       "      <td>hi, i deployed a project made with https://sta...</td>\n",
       "      <td>1</td>\n",
       "    </tr>\n",
       "  </tbody>\n",
       "</table>\n",
       "</div>"
      ],
      "text/plain": [
       "                                               title  \\\n",
       "0  possible to use spring-boot on android develop...   \n",
       "1  how do i use a custom websockethandler when i ...   \n",
       "3  can i use a higher version of the `spring-boot...   \n",
       "4        webflux functional endpoints authentication   \n",
       "5  document that the minimum supported version of...   \n",
       "\n",
       "                                                body  label  \n",
       "0  <!-- thanks for raising a spring boot issue. p...      1  \n",
       "1  my code is like this  ```java @configuration @...      1  \n",
       "3  can i use a higher version of the `spring-boot...      1  \n",
       "4  i only found the documentation about authentic...      1  \n",
       "5  hi, i deployed a project made with https://sta...      1  "
      ]
     },
     "execution_count": 5,
     "metadata": {},
     "output_type": "execute_result"
    }
   ],
   "source": [
    "labeled_question = pd.DataFrame({'title':title_list,'body': question_list,'label':lable_list})\n",
    "\n",
    "print(labeled_question.shape)\n",
    "labeled_question.dropna(axis=0,how='any',inplace=True)\n",
    "labeled_question['body'] = labeled_question['body'].str.lower()\n",
    "labeled_question['title'] = labeled_question['title'].str.lower()\n",
    "print(labeled_question.shape)\n",
    "labeled_question.head()\n"
   ]
  },
  {
   "cell_type": "code",
   "execution_count": 6,
   "metadata": {},
   "outputs": [
    {
     "data": {
      "text/plain": [
       "1    14676\n",
       "0    14340\n",
       "Name: label, dtype: int64"
      ]
     },
     "execution_count": 6,
     "metadata": {},
     "output_type": "execute_result"
    }
   ],
   "source": [
    "labeled_question['label'].value_counts()"
   ]
  },
  {
   "cell_type": "code",
   "execution_count": 7,
   "metadata": {},
   "outputs": [],
   "source": [
    "df1 = pd.read_csv(r'Dataset_SO\\StackOverflow\\vscode_stackoverflow.csv')\n",
    "df2 = pd.read_csv(r'Dataset_SO\\StackOverflow\\tensorflow_stackoverflow.csv')\n",
    "df3 = pd.read_csv(r'Dataset_SO\\StackOverflow\\spring-boot_stackoverflow.csv')\n",
    "df4 = pd.read_csv(r'Dataset_SO\\StackOverflow\\flutter_stackoverflow.csv')"
   ]
  },
  {
   "cell_type": "code",
   "execution_count": 8,
   "metadata": {},
   "outputs": [
    {
     "data": {
      "text/html": [
       "<div>\n",
       "<style scoped>\n",
       "    .dataframe tbody tr th:only-of-type {\n",
       "        vertical-align: middle;\n",
       "    }\n",
       "\n",
       "    .dataframe tbody tr th {\n",
       "        vertical-align: top;\n",
       "    }\n",
       "\n",
       "    .dataframe thead th {\n",
       "        text-align: right;\n",
       "    }\n",
       "</style>\n",
       "<table border=\"1\" class=\"dataframe\">\n",
       "  <thead>\n",
       "    <tr style=\"text-align: right;\">\n",
       "      <th></th>\n",
       "      <th>title</th>\n",
       "      <th>body</th>\n",
       "      <th>label</th>\n",
       "    </tr>\n",
       "  </thead>\n",
       "  <tbody>\n",
       "    <tr>\n",
       "      <th>0</th>\n",
       "      <td>Kernel dying while importing Tensorflow</td>\n",
       "      <td>&lt;p&gt;In anaconda3 after creating a new environme...</td>\n",
       "      <td>1</td>\n",
       "    </tr>\n",
       "    <tr>\n",
       "      <th>1</th>\n",
       "      <td>Permanently update a variable in tensorflow-ja...</td>\n",
       "      <td>&lt;p&gt;I have trained a model using python-tensorf...</td>\n",
       "      <td>1</td>\n",
       "    </tr>\n",
       "    <tr>\n",
       "      <th>2</th>\n",
       "      <td>Distributed Tensorflow: good example for synch...</td>\n",
       "      <td>\\n\\n&lt;p&gt;I am new to distributed tensorflow and ...</td>\n",
       "      <td>1</td>\n",
       "    </tr>\n",
       "    <tr>\n",
       "      <th>3</th>\n",
       "      <td>AttributeError: 'str' object has no attribute ...</td>\n",
       "      <td>&lt;p&gt;I was trying to make an Image Captioning mo...</td>\n",
       "      <td>1</td>\n",
       "    </tr>\n",
       "    <tr>\n",
       "      <th>4</th>\n",
       "      <td>Keras Multi-GPU: One CPU core goes to 100% and...</td>\n",
       "      <td>&lt;p&gt;I have been using the system with one GTX10...</td>\n",
       "      <td>1</td>\n",
       "    </tr>\n",
       "    <tr>\n",
       "      <th>...</th>\n",
       "      <td>...</td>\n",
       "      <td>...</td>\n",
       "      <td>...</td>\n",
       "    </tr>\n",
       "    <tr>\n",
       "      <th>7495</th>\n",
       "      <td>How to map a dataset with a function which con...</td>\n",
       "      <td>&lt;p&gt;I have a dataset in the form of a Tensorflo...</td>\n",
       "      <td>1</td>\n",
       "    </tr>\n",
       "    <tr>\n",
       "      <th>7496</th>\n",
       "      <td>Is it allowed to assign a value to a variable ...</td>\n",
       "      <td>&lt;p&gt;I define a simple computational graph invol...</td>\n",
       "      <td>1</td>\n",
       "    </tr>\n",
       "    <tr>\n",
       "      <th>7497</th>\n",
       "      <td>Placing examples in a mini-batch on the rows o...</td>\n",
       "      <td>&lt;p&gt;I am using tensorflow 2.0 to train a model....</td>\n",
       "      <td>1</td>\n",
       "    </tr>\n",
       "    <tr>\n",
       "      <th>7498</th>\n",
       "      <td>Tensorflow padding='SAME' applied before/after...</td>\n",
       "      <td>&lt;p&gt;When using TF's Conv2D layer with &lt;code&gt;pad...</td>\n",
       "      <td>1</td>\n",
       "    </tr>\n",
       "    <tr>\n",
       "      <th>7499</th>\n",
       "      <td>Tensorflow Model on GCP - Converting JSON Pred...</td>\n",
       "      <td>&lt;p&gt;I have trained a model using the Wild ML im...</td>\n",
       "      <td>1</td>\n",
       "    </tr>\n",
       "  </tbody>\n",
       "</table>\n",
       "<p>7500 rows × 3 columns</p>\n",
       "</div>"
      ],
      "text/plain": [
       "                                                  title  \\\n",
       "0               Kernel dying while importing Tensorflow   \n",
       "1     Permanently update a variable in tensorflow-ja...   \n",
       "2     Distributed Tensorflow: good example for synch...   \n",
       "3     AttributeError: 'str' object has no attribute ...   \n",
       "4     Keras Multi-GPU: One CPU core goes to 100% and...   \n",
       "...                                                 ...   \n",
       "7495  How to map a dataset with a function which con...   \n",
       "7496  Is it allowed to assign a value to a variable ...   \n",
       "7497  Placing examples in a mini-batch on the rows o...   \n",
       "7498  Tensorflow padding='SAME' applied before/after...   \n",
       "7499  Tensorflow Model on GCP - Converting JSON Pred...   \n",
       "\n",
       "                                                   body  label  \n",
       "0     <p>In anaconda3 after creating a new environme...      1  \n",
       "1     <p>I have trained a model using python-tensorf...      1  \n",
       "2     \\n\\n<p>I am new to distributed tensorflow and ...      1  \n",
       "3     <p>I was trying to make an Image Captioning mo...      1  \n",
       "4     <p>I have been using the system with one GTX10...      1  \n",
       "...                                                 ...    ...  \n",
       "7495  <p>I have a dataset in the form of a Tensorflo...      1  \n",
       "7496  <p>I define a simple computational graph invol...      1  \n",
       "7497  <p>I am using tensorflow 2.0 to train a model....      1  \n",
       "7498  <p>When using TF's Conv2D layer with <code>pad...      1  \n",
       "7499  <p>I have trained a model using the Wild ML im...      1  \n",
       "\n",
       "[7500 rows x 3 columns]"
      ]
     },
     "execution_count": 8,
     "metadata": {},
     "output_type": "execute_result"
    }
   ],
   "source": [
    "Strong_pos_lst_body = df2.values[:,3].tolist() + df2.values[:,3].tolist() + df2.values[:,3].tolist() + df2.values[:,3].tolist()\n",
    "Strong_pos_lst_title = df2.values[:,2].tolist() + df2.values[:,2].tolist() + df2.values[:,2].tolist() + df2.values[:,2].tolist()\n",
    "SOpos_df_all = pd.DataFrame({'title':Strong_pos_lst_title,'body': Strong_pos_lst_body,'label':[1 for i in range(len(Strong_pos_lst_title))]})\n",
    "SOpos_df = SOpos_df_all.sample(7500,ignore_index=True)\n",
    "SOpos_df"
   ]
  },
  {
   "cell_type": "code",
   "execution_count": 9,
   "metadata": {},
   "outputs": [
    {
     "data": {
      "text/plain": [
       "1    15000\n",
       "0    14340\n",
       "Name: label, dtype: int64"
      ]
     },
     "execution_count": 9,
     "metadata": {},
     "output_type": "execute_result"
    }
   ],
   "source": [
    "df_pos_all = labeled_question.loc[labeled_question['label']==1]\n",
    "df_neg = labeled_question.loc[labeled_question['label']==0]\n",
    "df_pos = df_pos_all.sample(7500,ignore_index=True)\n",
    "frame = [df_pos, SOpos_df, df_neg]\n",
    "\n",
    "labeled_question = pd.concat(frame, ignore_index=True)\n",
    "labeled_question['label'].value_counts()"
   ]
  },
  {
   "attachments": {},
   "cell_type": "markdown",
   "metadata": {},
   "source": [
    "Data Cleaning"
   ]
  },
  {
   "cell_type": "code",
   "execution_count": 10,
   "metadata": {},
   "outputs": [],
   "source": [
    "import nltk\n",
    "import contractions\n",
    "import inflect\n",
    "from nltk import word_tokenize, sent_tokenize\n",
    "from nltk.corpus import stopwords\n",
    "from nltk.stem import LancasterStemmer, WordNetLemmatizer\n",
    "from bs4 import BeautifulSoup\n",
    "import re, string, unicodedata"
   ]
  },
  {
   "cell_type": "code",
   "execution_count": 11,
   "metadata": {},
   "outputs": [],
   "source": [
    "def html_remover(data):\n",
    "  beauti = BeautifulSoup(data,'html.parser')\n",
    "  return beauti.get_text()\n",
    "\n",
    "# to remove URL\n",
    "def url_remover(data):\n",
    "  return re.sub(r'https\\S','',data)\n",
    "\n",
    "def web_associated(data):\n",
    "  text = html_remover(data)\n",
    "  text = url_remover(text)\n",
    "  return text"
   ]
  },
  {
   "cell_type": "code",
   "execution_count": 12,
   "metadata": {},
   "outputs": [],
   "source": [
    "def remove_round_brackets(data):\n",
    "  return re.sub('\\(.*?\\)','',data)\n",
    "\n",
    "def remove_punc(data):\n",
    "  trans = str.maketrans('','', string.punctuation)\n",
    "  return data.translate(trans)\n",
    "\n",
    "def white_space(data):\n",
    "  return ' '.join(data.split())\n",
    "\n",
    "def complete_noise(data):\n",
    "  new_data = remove_round_brackets(data)\n",
    "  new_data = remove_punc(new_data)\n",
    "  new_data = white_space(new_data)\n",
    "  return new_data"
   ]
  },
  {
   "cell_type": "code",
   "execution_count": 13,
   "metadata": {},
   "outputs": [
    {
     "name": "stderr",
     "output_type": "stream",
     "text": [
      "c:\\Users\\79105\\AppData\\Local\\Programs\\Python\\Python310\\lib\\site-packages\\bs4\\__init__.py:435: MarkupResemblesLocatorWarning: The input looks more like a filename than markup. You may want to open this file and pass the filehandle into Beautiful Soup.\n",
      "  warnings.warn(\n",
      "c:\\Users\\79105\\AppData\\Local\\Programs\\Python\\Python310\\lib\\site-packages\\bs4\\builder\\__init__.py:545: XMLParsedAsHTMLWarning: It looks like you're parsing an XML document using an HTML parser. If this really is an HTML document (maybe it's XHTML?), you can ignore or filter this warning. If it's XML, you should know that using an XML parser will be more reliable. To parse this document as XML, make sure you have the lxml package installed, and pass the keyword argument `features=\"xml\"` into the BeautifulSoup constructor.\n",
      "  warnings.warn(\n",
      "c:\\Users\\79105\\AppData\\Local\\Programs\\Python\\Python310\\lib\\site-packages\\bs4\\__init__.py:404: MarkupResemblesLocatorWarning: The input looks more like a URL than markup. You may want to use an HTTP client like requests to get the document behind the URL, and feed that document to Beautiful Soup.\n",
      "  warnings.warn(\n"
     ]
    },
    {
     "data": {
      "text/html": [
       "<div>\n",
       "<style scoped>\n",
       "    .dataframe tbody tr th:only-of-type {\n",
       "        vertical-align: middle;\n",
       "    }\n",
       "\n",
       "    .dataframe tbody tr th {\n",
       "        vertical-align: top;\n",
       "    }\n",
       "\n",
       "    .dataframe thead th {\n",
       "        text-align: right;\n",
       "    }\n",
       "</style>\n",
       "<table border=\"1\" class=\"dataframe\">\n",
       "  <thead>\n",
       "    <tr style=\"text-align: right;\">\n",
       "      <th></th>\n",
       "      <th>title</th>\n",
       "      <th>body</th>\n",
       "      <th>label</th>\n",
       "    </tr>\n",
       "  </thead>\n",
       "  <tbody>\n",
       "    <tr>\n",
       "      <th>0</th>\n",
       "      <td>tensorflow/lite/kernels/gather.cc:80 0 &lt;= axis...</td>\n",
       "      <td>i have converted a mask r cnn model to deploy ...</td>\n",
       "      <td>1</td>\n",
       "    </tr>\n",
       "    <tr>\n",
       "      <th>1</th>\n",
       "      <td>macbook m1 flutter run -v error</td>\n",
       "      <td>steps to reproduce macbook m 1 2020 1 flutter ...</td>\n",
       "      <td>1</td>\n",
       "    </tr>\n",
       "    <tr>\n",
       "      <th>2</th>\n",
       "      <td>makefile build symbol(s) not found for archite...</td>\n",
       "      <td>im trying to build tensor flow on a mac os x s...</td>\n",
       "      <td>1</td>\n",
       "    </tr>\n",
       "    <tr>\n",
       "      <th>3</th>\n",
       "      <td>crash in _scrollablescope. textdirection!=null...</td>\n",
       "      <td>steps to reproduce hello this is my fir ts cod...</td>\n",
       "      <td>1</td>\n",
       "    </tr>\n",
       "    <tr>\n",
       "      <th>4</th>\n",
       "      <td>android toolchain</td>\n",
       "      <td>steps to reproduce 1 2 3 logs logs</td>\n",
       "      <td>1</td>\n",
       "    </tr>\n",
       "  </tbody>\n",
       "</table>\n",
       "</div>"
      ],
      "text/plain": [
       "                                               title  \\\n",
       "0  tensorflow/lite/kernels/gather.cc:80 0 <= axis...   \n",
       "1                    macbook m1 flutter run -v error   \n",
       "2  makefile build symbol(s) not found for archite...   \n",
       "3  crash in _scrollablescope. textdirection!=null...   \n",
       "4                                 android toolchain    \n",
       "\n",
       "                                                body  label  \n",
       "0  i have converted a mask r cnn model to deploy ...      1  \n",
       "1  steps to reproduce macbook m 1 2020 1 flutter ...      1  \n",
       "2  im trying to build tensor flow on a mac os x s...      1  \n",
       "3  steps to reproduce hello this is my fir ts cod...      1  \n",
       "4                 steps to reproduce 1 2 3 logs logs      1  "
      ]
     },
     "execution_count": 13,
     "metadata": {},
     "output_type": "execute_result"
    }
   ],
   "source": [
    "def Data_cleaning(x):\n",
    "    return complete_noise(web_associated(x))\n",
    "\n",
    "for index,row in labeled_question.iterrows():\n",
    "    text = Data_cleaning(row['body'])\n",
    "    text1 = wordninja.split(text)\n",
    "    text2 = ' '.join(text1)\n",
    "    labeled_question.loc[index,'body'] = text2\n",
    "\n",
    "cleaned_labeled_question = labeled_question.loc[labeled_question['body'].str.len()>10]\n",
    "cleaned_labeled_question.head()\n"
   ]
  },
  {
   "cell_type": "code",
   "execution_count": 14,
   "metadata": {},
   "outputs": [
    {
     "data": {
      "text/html": [
       "<div>\n",
       "<style scoped>\n",
       "    .dataframe tbody tr th:only-of-type {\n",
       "        vertical-align: middle;\n",
       "    }\n",
       "\n",
       "    .dataframe tbody tr th {\n",
       "        vertical-align: top;\n",
       "    }\n",
       "\n",
       "    .dataframe thead th {\n",
       "        text-align: right;\n",
       "    }\n",
       "</style>\n",
       "<table border=\"1\" class=\"dataframe\">\n",
       "  <thead>\n",
       "    <tr style=\"text-align: right;\">\n",
       "      <th></th>\n",
       "      <th>title</th>\n",
       "      <th>body</th>\n",
       "      <th>label</th>\n",
       "    </tr>\n",
       "  </thead>\n",
       "  <tbody>\n",
       "    <tr>\n",
       "      <th>0</th>\n",
       "      <td>tensorflow/lite/kernels/gather.cc:80 0 &lt;= axis...</td>\n",
       "      <td>i have converted a mask r cnn model to deploy ...</td>\n",
       "      <td>1</td>\n",
       "    </tr>\n",
       "    <tr>\n",
       "      <th>1</th>\n",
       "      <td>macbook m1 flutter run -v error</td>\n",
       "      <td>steps to reproduce macbook m 1 2020 1 flutter ...</td>\n",
       "      <td>1</td>\n",
       "    </tr>\n",
       "    <tr>\n",
       "      <th>2</th>\n",
       "      <td>makefile build symbol(s) not found for archite...</td>\n",
       "      <td>im trying to build tensor flow on a mac os x s...</td>\n",
       "      <td>1</td>\n",
       "    </tr>\n",
       "    <tr>\n",
       "      <th>3</th>\n",
       "      <td>crash in _scrollablescope. textdirection!=null...</td>\n",
       "      <td>steps to reproduce hello this is my fir ts cod...</td>\n",
       "      <td>1</td>\n",
       "    </tr>\n",
       "    <tr>\n",
       "      <th>4</th>\n",
       "      <td>android toolchain</td>\n",
       "      <td>steps to reproduce 1 2 3 logs logs</td>\n",
       "      <td>1</td>\n",
       "    </tr>\n",
       "  </tbody>\n",
       "</table>\n",
       "</div>"
      ],
      "text/plain": [
       "                                               title  \\\n",
       "0  tensorflow/lite/kernels/gather.cc:80 0 <= axis...   \n",
       "1                    macbook m1 flutter run -v error   \n",
       "2  makefile build symbol(s) not found for archite...   \n",
       "3  crash in _scrollablescope. textdirection!=null...   \n",
       "4                                 android toolchain    \n",
       "\n",
       "                                                body  label  \n",
       "0  i have converted a mask r cnn model to deploy ...      1  \n",
       "1  steps to reproduce macbook m 1 2020 1 flutter ...      1  \n",
       "2  im trying to build tensor flow on a mac os x s...      1  \n",
       "3  steps to reproduce hello this is my fir ts cod...      1  \n",
       "4                 steps to reproduce 1 2 3 logs logs      1  "
      ]
     },
     "execution_count": 14,
     "metadata": {},
     "output_type": "execute_result"
    }
   ],
   "source": [
    "cleaned_labeled_question.head()"
   ]
  },
  {
   "cell_type": "code",
   "execution_count": 15,
   "metadata": {},
   "outputs": [
    {
     "data": {
      "text/plain": [
       "'steps to reproduce macbook m 1 2020 1 flutter run v logs console dex pods build debug iphone simulator appa u th build all product headers yam l i quote users galland s library developer x code derived data runner dnc aw uml uuo mep gz ew bx bgh tim uf build intermediates no in dex pods build debug iphone simulator appa u th build appa u th project headers h map i users galland s documents church notes app flutter build ios debug iphone simulator appa u th include i users galland s library developer x code derived data runner dnc aw uml uuo mep gz ew bx bgh tim uf build intermediates no index pods build debug iphone simulator appa u th build derived sources normal i 386 i users galland s library developer x code derived data runner dnc aw uml uuo mep gz ew bx bgh tim uf build intermediates no index pods build debug iphone simulator appa u th build derived sources i 386 i users galland s library developer x code derived data runner dnc aw uml uuo mep gz ew bx bgh tim uf build intermediates no index pods build debug iphone simulator appa u th build derived sources f users galland s documents church notes app flutter build ios debug iphone simulator appa u th include users galland s documents church notes app flutter ios pods target support files appa u th appa u th prefix p ch mm d mt dependencies mf users galland s library developer x code derived data runner dnc aw uml uuo mep gz ew bx bgh tim uf build intermediates no in dex pods build debug iphone simulator appa u th build objects normal i 386 oid scopes d serialize diagnostics users galland s library developer x code derived data runner dnc aw uml uuo mep gz ew bx bgh tim uf build intermediates no in dex pods build debug iphone simulator appa u th build objects normal i 386 oid scopes dia c users galland s documents church notes app flutter ios pods appa u th source appa u th core oid scopes m o users galland s library developer x code derived data runner dnc aw uml uuo mep gz ew bx bgh tim uf build intermediates no in dex pods build debug iphone simulator appa u th build objects normal i 386 oid scope so ld users galland s library developer x code derived data runner dnc aw uml uuo mep gz ew bx bgh tim uf build intermediates no index pods build debug iphone simulator appa u th build objects normal x 8664 binary appa u th normal x 8664 cd users galland s documents church notes app flutter ios pods applications x code app contents developer tool chains x code default xc tool chain us rb in clang target x 8664 apple ios 80 simulator dynamic lib is ys root applications x code app contents developer platforms iphone simulator platform developers dk s iphone simulator 144 sdk l users galland s documents church notes app flutter build ios debug iphone simulator appa u th f users galland s documents church notes app flutter build ios debug iphone simulator appa u th file list users galland s library developer x code derived data runner dnc aw uml uuo mep gz ew bx bgh tim uf build intermediates no in dex pods build debug iphone simulator appa u th build objects normal x 8664 appa u th link file list install name r path appa u th framework appa u th x linker r path x linker executable path frameworks x linker r path x linker loader path frameworks dead strip x linker object path l to x linker users galland s library developer x code derived data runner dnc aw uml uuo mep gz ew bx bgh tim uf build intermediates no in dex pods build debug iphone simulator appa u th build objects normal x 8664 appa u th l too x linker export dynamic x linker node duplicate x linker obj cab i version x linker 2 fob jc arc fob j clink runtime framework safari services weak framework authentication services framework foundation framework safari services x linker no ad hoc co design compatibility version 1 current version 1 x linker dependency info x linker users galland s library developer x code derived data runner dnc aw uml uuo mep gz ew bx bgh tim uf build intermediates no in dex pods build debug iphone simulator appa u th build objects normal x 8664 appa u th dependency info dat o users galland s library developer x code derived data runner dnc aw uml uuo mep gz ew bx bgh tim uf build intermediates no in dex pods build debug iphone simulator appa u th build objects normal x 8664 binary appa u th duplicate symbol oid grant types param in users galland s library developer x code derived data runner dnc aw uml uuo mep gz ew bx bgh tim uf build intermediates no in dex pods build debug iphone simulator appa u th build objects normal x 8664 oid client metadata parameters 2 o users galland s library developer x code derived data runner dnc aw uml uuo mep gz ew bx bgh tim uf build intermediates no in dex pods build debug iphone simulator appa u th build objects normal x 8664 oid client metadata parameter so duplicate symbol oid response types param in users galland s library developer x code derived data runner dnc aw uml uuo mep gz ew bx bgh tim uf build intermediates no in dex pods build debug iphone simulator appa u th build objects normal x 8664 oid client metadata parameters 2 o users galland s library developer x code derived data runner dnc aw uml uuo mep gz ew bx bgh tim uf build intermediates no in dex pods build debug iphone simulator appa u th build objects normal x 8664 oid client metadata parameter so duplicate symbol oid redirect uris param in users galland s library developer x code derived data runner dnc aw uml uuo mep gz ew bx bgh tim uf build intermediates no in dex pods build debug iphone simulator appa u th build objects normal x 8664 oid client metadata parameters 2 o users galland s library developer x code derived data runner dnc aw uml uuo mep gz ew bx bgh tim uf build intermediates no in dex pods build debug iphone simulator appa u th build objects normal x 8664 oid client metadata parameter so duplicate symbol oid subject type param in users galland s library developer x code derived data runner dnc aw uml uuo mep gz ew bx bgh tim uf build intermediates no in dex pods build debug iphone simulator appa u th build objects normal x 8664 oid client metadata parameters 2 o users galland s library developer x code derived data runner dnc aw uml uuo mep gz ew bx bgh tim uf build intermediates no in dex pods build debug iphone simulator appa u th build objects normal x 8664 oid client metadata parameter so duplicate symbol oid application type param in users galland s library developer x code derived data runner dnc aw uml uuo mep gz ew bx bgh tim uf build intermediates no in dex pods build debug iphone simulator appa u th build objects normal x 8664 oid client metadata parameters 2 o users galland s library developer x code derived data runner dnc aw uml uuo mep gz ew bx bgh tim uf build intermediates no in dex pods build debug iphone simulator appa u th build objects normal x 8664 oid client metadata parameter so duplicate symbol oid token endpoint authentication method param in users galland s library developer x code derived data runner dnc aw uml uuo mep gz ew bx bgh tim uf build intermediates no in dex pods build debug iphone simulator appa u th build objects normal x 8664 oid client metadata parameters 2 o users galland s library developer x code derived data runner dnc aw uml uuo mep gz ew bx bgh tim uf build intermediates no in dex pods build debug iphone simulator appa u th build objects normal x 8664 oid client metadata parameter so duplicate symbol oid application type native in users galland s library developer x code derived data runner dnc aw uml uuo mep gz ew bx bgh tim uf build intermediates no in dex pods build debug iphone simulator appa u th build objects normal x 8664 oid client metadata parameters 2 o users galland s library developer x code derived data runner dnc aw uml uuo mep gz ew bx bgh tim uf build intermediates no in dex pods build debug iphone simulator appa u th build objects normal x 8664 oid client metadata parameter so duplicate symbol oid grant type client credentials in users galland s library developer x code derived data runner dnc aw uml uuo mep gz ew bx bgh tim uf build intermediates no in dex pods build debug iphone simulator appa u th build objects normal x 8664 oid grant types 2 o users galland s library developer x code derived data runner dnc aw uml uuo mep gz ew bx bgh tim uf build intermediates no in dex pods build debug iphone simulator appa u th build objects normal x 8664 oid grant type so duplicate symbol oid grant type refresh token in users galland s library developer x code derived data runner dnc aw uml uuo mep gz ew bx bgh tim uf build intermediates no in dex pods build debug iphone simulator appa u th build objects normal x 8664 oid grant types 2 o users galland s library developer x code derived data runner dnc aw uml uuo mep gz ew bx bgh tim uf build intermediates no in dex pods build debug iphone simulator appa u th build objects normal x 8664 oid grant type so duplicate symbol oid grant type authorization code in users galland s library developer x code derived data runner dnc aw uml uuo mep gz ew bx bgh tim uf build intermediates no in dex pods build debug iphone simulator appa u th build objects normal x 8664 oid grant types 2 o users galland s library developer x code derived data runner dnc aw uml uuo mep gz ew bx bgh tim uf build intermediates no in dex pods build debug iphone simulator appa u th build objects normal x 8664 oid grant type so duplicate symbol oid grant type password in users galland s library developer x code derived data runner dnc aw uml uuo mep gz ew bx bgh tim uf build intermediates no in dex pods build debug iphone simulator appa u th build objects normal x 8664 oid grant types 2 o users galland s library developer x code derived data runner dnc aw uml uuo mep gz ew bx bgh tim uf build intermediates no in dex pods build debug iphone simulator appa u th build objects normal x 8664 oid grant type so duplicate symbol oid response type token in users galland s library developer x code derived data runner dnc aw uml uuo mep gz ew bx bgh tim uf build intermediates no in dex pods build debug iphone simulator appa u th build objects normal x 8664 oid response types 2 o users galland s library developer x code derived data runner dnc aw uml uuo mep gz ew bx bgh tim uf build intermediates no in dex pods build debug iphone simulator appa u th build objects normal x 8664 oid response type so duplicate symbol oid response type id token in users galland s library developer x code derived data runner dnc aw uml uuo mep gz ew bx bgh tim uf build intermediates no in dex pods build debug iphone simulator appa u th build objects normal x 8664 oid response types 2 o users galland s library developer x code derived data runner dnc aw uml uuo mep gz ew bx bgh tim uf build intermediates no in dex pods build debug iphone simulator appa u th build objects normal x 8664 oid response type so duplicate symbol oid response type code in users galland s library developer x code derived data runner dnc aw uml uuo mep gz ew bx bgh tim uf build intermediates no in dex pods build debug iphone simulator appa u th build objects normal x 8664 oid response types 2 o users galland s library developer x code derived data runner dnc aw uml uuo mep gz ew bx bgh tim uf build intermediates no in dex pods build debug iphone simulator appa u th build objects normal x 8664 oid response type so duplicate symbol oid scope address in users galland s library developer x code derived data runner dnc aw uml uuo mep gz ew bx bgh tim uf build intermediates no in dex pods build debug iphone simulator appa u th build objects normal x 8664 oid scopes 2 o users galland s library developer x code derived data runner dnc aw uml uuo mep gz ew bx bgh tim uf build intermediates no in dex pods build debug iphone simulator appa u th build objects normal x 8664 oid scope so duplicate symbol oid scope email in users galland s library developer x code derived data runner dnc aw uml uuo mep gz ew bx bgh tim uf build intermediates no in dex pods build debug iphone simulator appa u th build objects normal x 8664 oid scopes 2 o users galland s library developer x code derived data runner dnc aw uml uuo mep gz ew bx bgh tim uf build intermediates no in dex pods build debug iphone simulator appa u th build objects normal x 8664 oid scope so duplicate symbol oid scope phone in users galland s library developer x code derived data runner dnc aw uml uuo mep gz ew bx bgh tim uf build intermediates no in dex pods build debug iphone simulator appa u th build objects normal x 8664 oid scopes 2 o users galland s library developer x code derived data runner dnc aw uml uuo mep gz ew bx bgh tim uf build intermediates no in dex pods build debug iphone simulator appa u th build objects normal x 8664 oid scope so duplicate symbol oid scope profile in users galland s library developer x code derived data runner dnc aw uml uuo mep gz ew bx bgh tim uf build intermediates no in dex pods build debug iphone simulator appa u th build objects normal x 8664 oid scopes 2 o users galland s library developer x code derived data runner dnc aw uml uuo mep gz ew bx bgh tim uf build intermediates no in dex pods build debug iphone simulator appa u th build objects normal x 8664 oid scope so duplicate symbol oid scope open id in users galland s library developer x code derived data runner dnc aw uml uuo mep gz ew bx bgh tim uf build intermediates no in dex pods build debug iphone simulator appa u th build objects normal x 8664 oid scopes 2 o users galland s library developer x code derived data runner dnc aw uml uuo mep gz ew bx bgh tim uf build intermediates no in dex pods build debug iphone simulator appa u th build objects normal x 8664 oid scope so duplicate symbol obj c class oid url session provider in users galland s library developer x code derived data runner dnc aw uml uuo mep gz ew bx bgh tim uf build intermediates no in dex pods build debug iphone simulator appa u th build objects normal x 8664 oid url session provider 2 o users galland s library developer x code derived data runner dnc aw uml uuo mep gz ew bx bgh tim uf build intermediates no in dex pods build debug iphone simulator appa u th build objects normal x 8664 oid url session provider o duplicate symbol obj c meta class oid url session provider in users galland s library developer x code derived data runner dnc aw uml uuo mep gz ew bx bgh tim uf build intermediates no in dex pods build debug iphone simulator appa u th build objects normal x 8664 oid url session provider 2 o users galland s library developer x code derived data runner dnc aw uml uuo mep gz ew bx bgh tim uf build intermediates no in dex pods build debug iphone simulator appa u th build objects normal x 8664 oid url session provider o ld 21 duplicate symbols for architecture x 8664 clang error linker command failed with exit code 1 compile c users galland s library developer x code derived data runner dnc aw uml uuo mep gz ew bx bgh tim uf build intermediates no index pods build debug iphone simulator appa u th build objects normal i 386 oid scopes 2 o users galland s documents church notes app flutter ios pods appa u th source appa u th core oid scopes 2 m normal i 386 objective c com apple compilers ll vm clang 10 compiler cd users galland s documents church notes app flutter ios pods export lan genus us ascii applications x code app contents developer tool chains x code default xc tool chain us rb in clang x objective c target i 386 apple ios 80 simulator f message length 0 f diagnostics show note include stack f macro back trace limit 0 std gnu 11 fob jc arc fob jc weak f modules g modules f modules cache path users galland s library developer x code derived data module cache no index f modules prune interval 86400 f modules prune after 345600 f build session file users galland s library developer x code derived data module cache no index session module vali dati on f modules validate once per build session w non modular include in framework module w error non modular include in framework module f module name appa u th w not ri graphs f pascal strings o 0 f no common w no missing field initialize rs w no missing prototypes w error return type w documentation w unreachable code w no implicit atomic properties w error deprecated obj ci sausage w noob jc interface ivars w error obj c root class w no arc repeated use of weak w implicit retain self w duplicate method match w no missing braces w parentheses w switch w unused function w noun used label w noun used parameter w unused variable w unused value w empty body w uninitialized w conditional uninitialized w no unknown prag mas w no shadow w no four char constants w no conversion w constant conversion win t conversion w boo l conversion we num conversion w no float conversion w non literal null conversion w obj c literal conversion w shorten 64 to 32 w pointer sign w no newline e of w no selector w no strict selector match w undeclared selector w deprecated implementations d pod configuration debug 1 d debug 1 d cocoa pods 1 do bj cold dispatch prototypes 0 is ys root applications x code app contents developer platforms iphone simulator platform developers dk s iphone simulator 144 sdk f as m blocks f strict aliasing w protocol w deprecated declarations g w no sign conversion w infinite recursion w comma w block capture auto releasing w strict prototypes w no semicolon before method body w unguarded availability fob jc abi version 2 fob jc legacy dispatch i quote users galland s library developer x code derived data runner dnc aw uml uuo mep gz ew bx bgh tim uf build intermediates no in dex pods build debug iphone simulator appa u th build appa u th generated files h map i users galland s library developer x code derived data runner dnc aw uml uuo mep gz ew bx bgh tim uf build intermediates no index pods build debug iphone simulator appa u th build appa u th own target headers h map i users galland s library developer x code derived data runner dnc aw uml uuo mep gz ew bx bgh tim uf build intermediates no index pods build debug iphone simulator appa u th build appa ut hall non framework target headers h map ivf s overlay users galland s library developer x code derived data runner dnc aw uml uuo mep gz ew bx bgh tim uf build intermediates no in dex pods build debug iphone simulator appa u th build all product headers yam l i quote users galland s library developer x code derived data runner dnc aw uml uuo mep gz ew bx bgh tim uf build intermediates no in dex pods build debug iphone simulator appa u th build appa u th project headers h map i users galland s documents church notes app flutter build ios debug iphone simulator appa u th include i users galland s library developer x code derived data runner dnc aw uml uuo mep gz ew bx bgh tim uf build intermediates no index pods build debug iphone simulator appa u th build derived sources normal i 386 i users galland s library developer x code derived data runner dnc aw uml uuo mep gz ew bx bgh tim uf build intermediates no index pods build debug iphone simulator appa u th build derived sources i 386 i users galland s library developer x code derived data runner dnc aw uml uuo mep gz ew bx bgh tim uf build intermediates no index pods build debug iphone simulator appa u th build derived sources f users galland s documents church notes app flutter build ios debug iphone simulator appa u th include users galland s documents church notes app flutter ios pods target support files appa u th appa u th prefix p ch mm d mt dependencies mf users galland s library developer x code derived data runner dnc aw uml uuo mep gz ew bx bgh tim uf build intermediates no in dex pods build debug iphone simulator appa u th build objects normal i 386 oid scopes 2 d serialize diagnostics users galland s library developer x code derived data runner dnc aw uml uuo mep gz ew bx bgh tim uf build intermediates no in dex pods build debug iphone simulator appa u th build objects normal i 386 oid scopes 2 dia c users galland s documents church notes app flutter ios pods appa u th source appa u th core oid scopes 2 m o users galland s library developer x code derived data runner dnc aw uml uuo mep gz ew bx bgh tim uf build intermediates no in dex pods build debug iphone simulator appa u th build objects normal i 386 oid scopes 2 o compile c users galland s library developer x code derived data runner dnc aw uml uuo mep gz ew bx bgh tim uf build intermediates no index pods build debug iphone simulator appa u th build objects normal i 386 oid scope utilities o users galland s documents church notes app flutter ios pods appa u th source appa u th core oid scope utilities m normal i 386 objective c com apple compilers ll vm clang 10 compiler cd users galland s documents church notes app flutter ios pods export lan genus us ascii applications x code app contents developer tool chains x code default xc tool chain us rb in clang x objective c target i 386 apple ios 80 simulator f message length 0 f diagnostics show note include stack f macro back trace limit 0 std gnu 11 fob jc arc fob jc weak f modules g modules f modules cache path users galland s library developer x code derived data module cache no index f modules prune interval 86400 f modules prune after 345600 f build session file users galland s library developer x code derived data module cache no index session module vali dati on f modules validate once per build session w non modular include in framework module w error non modular include in framework module f module name appa u th w not ri graphs f pascal strings o 0 f no common w no missing field initialize rs w no missing prototypes w error return type w documentation w unreachable code w no implicit atomic properties w error deprecated obj ci sausage w noob jc interface ivars w error obj c root class w no arc repeated use of weak w implicit retain self w duplicate method match w no missing braces w parentheses w switch w unused function w noun used label w noun used parameter w unused variable w unused value w empty body w uninitialized w conditional uninitialized w no unknown prag mas w no shadow w no four char constants w no conversion w constant conversion win t conversion w boo l conversion we num conversion w no float conversion w non literal null conversion w obj c literal conversion w shorten 64 to 32 w pointer sign w no newline e of w no selector w no strict selector match w undeclared selector w deprecated implementations d pod configuration debug 1 d debug 1 d cocoa pods 1 do bj cold dispatch prototypes 0 is ys root applications x code app contents developer platforms iphone simulator platform developers dk s iphone simulator 144 sdk f as m blocks f strict aliasing w protocol w deprecated declarations g w no sign conversion w infinite recursion w comma w block capture auto releasing w strict prototypes w no semicolon before method body w unguarded availability fob jc abi version 2 fob jc legacy dispatch i quote users galland s library developer x code derived data runner dnc aw uml uuo mep gz ew bx bgh tim uf build intermediates no in dex pods build debug iphone simulator appa u th build appa u th generated files h map i users galland s library developer x code derived data runner dnc aw uml uuo mep gz ew bx bgh tim uf build intermediates no index pods build debug iphone simulator appa u th build appa u th own target headers h map i users galland s library developer x code derived data runner dnc aw uml uuo mep gz ew bx bgh tim uf build intermediates no index pods build debug iphone simulator appa u th build appa ut hall non framework target headers h map ivf s overlay users galland s library developer x code derived data runner dnc aw uml uuo mep gz ew bx bgh tim uf build intermediates no in dex pods build debug iphone simulator appa u th build all product headers yam l i quote users galland s library developer x code derived data runner dnc aw uml uuo mep gz ew bx bgh tim uf build intermediates no in dex pods build debug iphone simulator appa u th build appa u th project headers h map i users galland s documents church notes app flutter build ios debug iphone simulator appa u th include i users galland s library developer x code derived data runner dnc aw uml uuo mep gz ew bx bgh tim uf build intermediates no index pods build debug iphone simulator appa u th build derived sources normal i 386 i users galland s library developer x code derived data runner dnc aw uml uuo mep gz ew bx bgh tim uf build intermediates no index pods build debug iphone simulator appa u th build derived sources i 386 i users galland s library developer x code derived data runner dnc aw uml uuo mep gz ew bx bgh tim uf build intermediates no index pods build debug iphone simulator appa u th build derived sources f users galland s documents church notes app flutter build ios debug iphone simulator appa u th include users galland s documents church notes app flutter ios pods target support files appa u th appa u th prefix p ch mm d mt dependencies mf users galland s library developer x code derived data runner dnc aw uml uuo mep gz ew bx bgh tim uf build intermediates no in dex pods build debug iphone simulator appa u th build objects normal i 386 oid scope utilities d serialize diagnostics users galland s library developer x code derived data runner dnc aw uml uuo mep gz ew bx bgh tim uf build intermediates no in dex pods build debug iphone simulator appa u th build objects normal i 386 oid scope utilities dia c users galland s documents church notes app flutter ios pods appa u th source appa u th core oid scope utilities m o users galland s library developer x code derived data runner dnc aw uml uuo mep gz ew bx bgh tim uf build intermediates no in dex pods build debug iphone simulator appa u th build objects normal i 386 oid scope utilities o compile c users galland s library developer x code derived data runner dnc aw uml uuo mep gz ew bx bgh tim uf build intermediates no index pods build debug iphone simulator appa u th build objects normal i 386 oid response type so users galland s documents church notes app flutter ios pods appa u th source appa u th core oid response types m normal i 386 objective c com apple compilers ll vm clang 10 compiler cd users galland s documents church notes app flutter ios pods export lan genus us ascii applications x code app contents developer tool chains x code default xc tool chain us rb in clang x objective c target i 386 apple ios 80 simulator f message length 0 f diagnostics show note include stack f macro back trace limit 0 std gnu 11 fob jc arc fob jc weak f modules g modules f modules cache path users galland s library developer x code derived data module cache no index f modules prune interval 86400 f modules prune after 345600 f build session file users galland s library developer x code derived data module cache no index session module vali dati on f modules validate once per build session w non modular include in framework module w error non modular include in framework module f module name appa u th w not ri graphs f pascal strings o 0 f no common w no missing field initialize rs w no missing prototypes w error return type w documentation w unreachable code w no implicit atomic properties w error deprecated obj ci sausage w noob jc interface ivars w error obj c root class w no arc repeated use of weak w implicit retain self w duplicate method match w no missing braces w parentheses w switch w unused function w noun used label w noun used parameter w unused variable w unused value w empty body w uninitialized w conditional uninitialized w no unknown prag mas w no shadow w no four char constants w no conversion w constant conversion win t conversion w boo l conversion we num conversion w no float conversion w non literal null conversion w obj c literal conversion w shorten 64 to 32 w pointer sign w no newline e of w no selector w no strict selector match w undeclared selector w deprecated implementations d pod configuration debug 1 d debug 1 d cocoa pods 1 do bj cold dispatch prototypes 0 is ys root applications x code app contents developer platforms iphone simulator platform developers dk s iphone simulator 144 sdk f as m blocks f strict aliasing w protocol w deprecated declarations g w no sign conversion w infinite recursion w comma w block capture auto releasing w strict prototypes w no semicolon before method body w unguarded availability fob jc abi version 2 fob jc legacy dispatch i quote users galland s library developer x code derived data runner dnc aw uml uuo mep gz ew bx bgh tim uf build intermediates no in dex pods build debug iphone simulator appa u th build appa u th generated files h map i users galland s library developer x code derived data runner dnc aw uml uuo mep gz ew bx bgh tim uf build intermediates no index pods build debug iphone simulator appa u th build appa u th own target headers h map i users galland s library developer x code derived data runner dnc aw uml uuo mep gz ew bx bgh tim uf build intermediates no index pods build debug iphone simulator appa u th build appa ut hall non framework target headers h map ivf s overlay users galland s library developer x code derived data runner dnc aw uml uuo mep gz ew bx bgh tim uf build intermediates no in dex pods build debug iphone simulator appa u th build all product headers yam l i quote users galland s library developer x code derived data runner dnc aw uml uuo mep gz ew bx bgh tim uf build intermediates no in dex pods build debug iphone simulator appa u th build appa u th project headers h map i users galland s documents church notes app flutter build ios debug iphone simulator appa u th include i users galland s library developer x code derived data runner dnc aw uml uuo mep gz ew bx bgh tim uf build intermediates no index pods build debug iphone simulator appa u th build derived sources normal i 386 i users galland s library developer x code derived data runner dnc aw uml uuo mep gz ew bx bgh tim uf build intermediates no index pods build debug iphone simulator appa u th build derived sources i 386 i users galland s library developer x code derived data runner dnc aw uml uuo mep gz ew bx bgh tim uf build intermediates no index pods build debug iphone simulator appa u th build derived sources f users galland s documents church notes app flutter build ios debug iphone simulator appa u th include users galland s documents church notes app flutter ios pods target support files appa u th appa u th prefix p ch mm d mt dependencies mf users galland s library developer x code derived data runner dnc aw uml uuo mep gz ew bx bgh tim uf build intermediates no in dex pods build debug iphone simulator appa u th build objects normal i 386 oid response types d serialize diagnostics users galland s library developer x code derived data runner dnc aw uml uuo mep gz ew bx bgh tim uf build intermediates no in dex pods build debug iphone simulator appa u th build objects normal i 386 oid response types dia c users galland s documents church notes app flutter ios pods appa u th source appa u th core oid response types m o users galland s library developer x code derived data runner dnc aw uml uuo mep gz ew bx bgh tim uf build intermediates no in dex pods build debug iphone simulator appa u th build objects normal i 386 oid response type so compile c users galland s library developer x code derived data runner dnc aw uml uuo mep gz ew bx bgh tim uf build intermediates no index pods build debug iphone simulator appa u th build objects normal i 386 oid response types 2 o users galland s documents church notes app flutter ios pods appa u th source appa u th core oid response types 2 m normal i 386 objective c com apple compilers ll vm clang 10 compiler cd users galland s documents church notes app flutter ios pods export lan genus us ascii applications x code app contents developer tool chains x code default xc tool chain us rb in clang x objective c target i 386 apple ios 80 simulator f message length 0 f diagnostics show note include stack f macro back trace limit 0 std gnu 11 fob jc arc fob jc weak f modules g modules f modules cache path users galland s library developer x code derived data module cache no index f modules prune interval 86400 f modules prune after 345600 f build session file users galland s library developer x code derived data module cache no index session module vali dati on f modules validate once per build session w non modular include in framework module w error non modular include in framework module f module name appa u th w not ri graphs f pascal strings o 0 f no common w no missing field initialize rs w no missing prototypes w error return type w documentation w unreachable code w no implicit atomic properties w error deprecated obj ci sausage w noob jc interface ivars w error obj c root class w no arc repeated use of weak w implicit retain self w duplicate method match w no missing braces w parentheses w switch w unused function w noun used label w noun used parameter w unused variable w unused value w empty body w uninitialized w conditional uninitialized w no unknown prag mas w no shadow w no four char constants w no conversion w constant conversion win t conversion w boo l conversion we num conversion w no float conversion w non literal null conversion w obj c literal conversion w shorten 64 to 32 w pointer sign w no newline e of w no selector w no strict selector match w undeclared selector w deprecated implementations d pod configuration debug 1 d debug 1 d cocoa pods 1 do bj cold dispatch prototypes 0 is ys root applications x code app contents developer platforms iphone simulator platform developers dk s iphone simulator 144 sdk f as m blocks f strict aliasing w protocol w deprecated declarations g w no sign conversion w infinite recursion w comma w block capture auto releasing w strict prototypes w no semicolon before method body w unguarded availability fob jc abi version 2 fob jc legacy dispatch i quote users galland s library developer x code derived data runner dnc aw uml uuo mep gz ew bx bgh tim uf build intermediates no in dex pods build debug iphone simulator appa u th build appa u th generated files h map i users galland s library developer x code derived data runner dnc aw uml uuo mep gz ew bx bgh tim uf build intermediates no index pods build debug iphone simulator appa u th build appa u th own target headers h map i users galland s library developer x code derived data runner dnc aw uml uuo mep gz ew bx bgh tim uf build intermediates no index pods build debug iphone simulator appa u th build appa ut hall non framework target headers h map ivf s overlay users galland s library developer x code derived data runner dnc aw uml uuo mep gz ew bx bgh tim uf build intermediates no in dex pods build debug iphone simulator appa u th build all product headers yam l i quote users galland s library developer x code derived data runner dnc aw uml uuo mep gz ew bx bgh tim uf build intermediates no in dex pods build debug iphone simulator appa u th build appa u th project headers h map i users galland s documents church notes app flutter build ios debug iphone simulator appa u th include i users galland s library developer x code derived data runner dnc aw uml uuo mep gz ew bx bgh tim uf build intermediates no index pods build debug iphone simulator appa u th build derived sources normal i 386 i users galland s library developer x code derived data runner dnc aw uml uuo mep gz ew bx bgh tim uf build intermediates no index pods build debug iphone simulator appa u th build derived sources i 386 i users galland s library developer x code derived data runner dnc aw uml uuo mep gz ew bx bgh tim uf build intermediates no index pods build debug iphone simulator appa u th build derived sources f users galland s documents church notes app flutter build ios debug iphone simulator appa u th include users galland s documents church notes app flutter ios pods target support files appa u th appa u th prefix p ch mm d mt dependencies mf users galland s library developer x code derived data runner dnc aw uml uuo mep gz ew bx bgh tim uf build intermediates no in dex pods build debug iphone simulator appa u th build objects normal i 386 oid response types 2 d serialize diagnostics users galland s library developer x code derived data runner dnc aw uml uuo mep gz ew bx bgh tim uf build intermediates no in dex pods build debug iphone simulator appa u th build objects normal i 386 oid response types 2 dia c users galland s documents church notes app flutter ios pods appa u th source appa u th core oid response types 2 m o users galland s library developer x code derived data runner dnc aw uml uuo mep gz ew bx bgh tim uf build intermediates no in dex pods build debug iphone simulator appa u th build objects normal i 386 oid response types 2 o compile c users galland s library developer x code derived data runner dnc aw uml uuo mep gz ew bx bgh tim uf build intermediates no index pods build debug iphone simulator appa u th build objects normal i 386 oid registration response o users galland s documents church notes app flutter ios pods appa u th source appa u th core oid registration response m normal i 386 objective c com apple compilers ll vm clang 10 compiler cd users galland s documents church notes app flutter ios pods export lan genus us ascii applications x code app contents developer tool chains x code default xc tool chain us rb in clang x objective c target i 386 apple ios 80 simulator f message length 0 f diagnostics show note include stack f macro back trace limit 0 std gnu 11 fob jc arc fob jc weak f modules g modules f modules cache path users galland s library developer x code derived data module cache no index f modules prune interval 86400 f modules prune after 345600 f build session file users galland s library developer x code derived data module cache no index session module vali dati on f modules validate once per build session w non modular include in framework module w error non modular include in framework module f module name appa u th w not ri graphs f pascal strings o 0 f no common w no missing field initialize rs w no missing prototypes w error return type w documentation w unreachable code w no implicit atomic properties w error deprecated obj ci sausage w noob jc interface ivars w error obj c root class w no arc repeated use of weak w implicit retain self w duplicate method match w no missing braces w parentheses w switch w unused function w noun used label w noun used parameter w unused variable w unused value w empty body w uninitialized w conditional uninitialized w no unknown prag mas w no shadow w no four char constants w no conversion w constant conversion win t conversion w boo l conversion we num conversion w no float conversion w non literal null conversion w obj c literal conversion w shorten 64 to 32 w pointer sign w no newline e of w no selector w no strict selector match w undeclared selector w deprecated implementations d pod configuration debug 1 d debug 1 d cocoa pods 1 do bj cold dispatch prototypes 0 is ys root applications x code app contents developer platforms iphone simulator platform developers dk s iphone simulator 144 sdk f as m blocks f strict aliasing w protocol w deprecated declarations g w no sign conversion w infinite recursion w comma w block capture auto releasing w strict prototypes w no semicolon before method body w unguarded availability fob jc abi version 2 fob jc legacy dispatch i quote users galland s library developer x code derived data runner dnc aw uml uuo mep gz ew bx bgh tim uf build intermediates no in dex pods build debug iphone simulator appa u th build appa u th generated files h map i users galland s library developer x code derived data runner dnc aw uml uuo mep gz ew bx bgh tim uf build intermediates no index pods build debug iphone simulator appa u th build appa u th own target headers h map i users galland s library developer x code derived data runner dnc aw uml uuo mep gz ew bx bgh tim uf build intermediates no index pods build debug iphone simulator appa u th build appa ut hall non framework target headers h map ivf s overlay users galland s library developer x code derived data runner dnc aw uml uuo mep gz ew bx bgh tim uf build intermediates no in dex pods build debug iphone simulator appa u th build all product headers yam l i quote users galland s library developer x code derived data runner dnc aw uml uuo mep gz ew bx bgh tim uf build intermediates no in dex pods build debug iphone simulator appa u th build appa u th project headers h map i users galland s documents church notes app flutter build ios debug iphone simulator appa u th include i users galland s library developer x code derived data runner dnc aw uml uuo mep gz ew bx bgh tim uf build intermediates no index pods build debug iphone simulator appa u th build derived sources normal i 386 i users galland s library developer x code derived data runner dnc aw uml uuo mep gz ew bx bgh tim uf build intermediates no index pods build debug iphone simulator appa u th build derived sources i 386 i users galland s library developer x code derived data runner dnc aw uml uuo mep gz ew bx bgh tim uf build intermediates no index pods build debug iphone simulator appa u th build derived sources f users galland s documents church notes app flutter build ios debug iphone simulator appa u th include users galland s documents church notes app flutter ios pods target support files appa u th appa u th prefix p ch mm d mt dependencies mf users galland s library developer x code derived data runner dnc aw uml uuo mep gz ew bx bgh tim uf build intermediates no in dex pods build debug iphone simulator appa u th build objects normal i 386 oid registration response d serialize diagnostics users galland s library developer x code derived data runner dnc aw uml uuo mep gz ew bx bgh tim uf build intermediates no in dex pods build debug iphone simulator appa u th build objects normal i 386 oid registration response dia c users galland s documents church notes app flutter ios pods appa u th source appa u th core oid registration response m o users galland s library developer x code derived data runner dnc aw uml uuo mep gz ew bx bgh tim uf build intermediates no in dex pods build debug iphone simulator appa u th build objects normal i 386 oid registration response o compile c users galland s library developer x code derived data runner dnc aw uml uuo mep gz ew bx bgh tim uf build intermediates no index pods build debug iphone simulator appa u th build objects normal i 386 oid registration request o users galland s documents church notes app flutter ios pods appa u th source appa u th core oid registration request m normal i 386 objective c com apple compilers ll vm clang 10 compiler cd users galland s documents church notes app flutter ios pods export lan genus us ascii applications x code app contents developer tool chains x code default xc tool chain us rb in clang x objective c target i 386 apple ios 80 simulator f message length 0 f diagnostics show note include stack f macro back trace limit 0 std gnu 11 fob jc arc fob jc weak f modules g modules f modules cache path users galland s library developer x code derived data module cache no index f modules prune interval 86400 f modules prune after 345600 f build session file users galland s library developer x code derived data module cache no index session module vali dati on f modules validate once per build session w non modular include in framework module w error non modular include in framework module f module name appa u th w not ri graphs f pascal strings o 0 f no common w no missing field initialize rs w no missing prototypes w error return type w documentation w unreachable code w no implicit atomic properties w error deprecated obj ci sausage w noob jc interface ivars w error obj c root class w no arc repeated use of weak w implicit retain self w duplicate method match w no missing braces w parentheses w switch w unused function w noun used label w noun used parameter w unused variable w unused value w empty body w uninitialized w conditional uninitialized w no unknown prag mas w no shadow w no four char constants w no conversion w constant conversion win t conversion w boo l conversion we num conversion w no float conversion w non literal null conversion w obj c literal conversion w shorten 64 to 32 w pointer sign w no newline e of w no selector w no strict selector match w undeclared selector w deprecated implementations d pod configuration debug 1 d debug 1 d cocoa pods 1 do bj cold dispatch prototypes 0 is ys root applications x code app contents developer platforms iphone simulator platform developers dk s iphone simulator 144 sdk f as m blocks f strict aliasing w protocol w deprecated declarations g w no sign conversion w infinite recursion w comma w block capture auto releasing w strict prototypes w no semicolon before method body w unguarded availability fob jc abi version 2 fob jc legacy dispatch i quote users galland s library developer x code derived data runner dnc aw uml uuo mep gz ew bx bgh tim uf build intermediates no in dex pods build debug iphone simulator appa u th build appa u th generated files h map i users galland s library developer x code derived data runner dnc aw uml uuo mep gz ew bx bgh tim uf build intermediates no index pods build debug iphone simulator appa u th build appa u th own target headers h map i users galland s library developer x code derived data runner dnc aw uml uuo mep gz ew bx bgh tim uf build intermediates no index pods build debug iphone simulator appa u th build appa ut hall non framework target headers h map ivf s overlay users galland s library developer x code derived data runner dnc aw uml uuo mep gz ew bx bgh tim uf build intermediates no in dex pods build debug iphone simulator appa u th build all product headers yam l i quote users galland s library developer x code derived data runner dnc aw uml uuo mep gz ew bx bgh tim uf build intermediates no in dex pods build debug iphone simulator appa u th build appa u th project headers h map i users galland s documents church notes app flutter build ios debug iphone simulator appa u th include i users galland s library developer x code derived data runner dnc aw uml uuo mep gz ew bx bgh tim uf build intermediates no index pods build debug iphone simulator appa u th build derived sources normal i 386 i users galland s library developer x code derived data runner dnc aw uml uuo mep gz ew bx bgh tim uf build intermediates no index pods build debug iphone simulator appa u th build derived sources i 386 i users galland s library developer x code derived data runner dnc aw uml uuo mep gz ew bx bgh tim uf build intermediates no index pods build debug iphone simulator appa u th build derived sources f users galland s documents church notes app flutter build ios debug iphone simulator appa u th include users galland s documents church notes app flutter ios pods target support files appa u th appa u th prefix p ch mm d mt dependencies mf users galland s library developer x code derived data runner dnc aw uml uuo mep gz ew bx bgh tim uf build intermediates no in dex pods build debug iphone simulator appa u th build objects normal i 386 oid registration request d serialize diagnostics users galland s library developer x code derived data runner dnc aw uml uuo mep gz ew bx bgh tim uf build intermediates no in dex pods build debug iphone simulator appa u th build objects normal i 386 oid registration request dia c users galland s documents church notes app flutter ios pods appa u th source appa u th core oid registration request m o users galland s library developer x code derived data runner dnc aw uml uuo mep gz ew bx bgh tim uf build intermediates no in dex pods build debug iphone simulator appa u th build objects normal i 386 oid registration request o compile c users galland s library developer x code derived data runner dnc aw uml uuo mep gz ew bx bgh tim uf build intermediates no index pods build debug iphone simulator appa u th build objects normal i 386 oi did token o users galland s documents church notes app flutter ios pods appa u th source appa u th core oi did token m normal i 386 objective c com apple compilers ll vm clang 10 compiler cd users galland s documents church notes app flutter ios pods export lan genus us ascii applications x code app contents developer tool chains x code default xc tool chain us rb in clang x objective c target i 386 apple ios 80 simulator f message length 0 f diagnostics show note include stack f macro back trace limit 0 std gnu 11 fob jc arc fob jc weak f modules g modules f modules cache path users galland s library developer x code derived data module cache no index f modules prune interval 86400 f modules prune after 345600 f build session file users galland s library developer x code derived data module cache no index session module vali dati on f modules validate once per build session w non modular include in framework module w error non modular include in framework module f module name appa u th w not ri graphs f pascal strings o 0 f no common w no missing field initialize rs w no missing prototypes w error return type w documentation w unreachable code w no implicit atomic properties w error deprecated obj ci sausage w noob jc interface ivars w error obj c root class w no arc repeated use of weak w implicit retain self w duplicate method match w no missing braces w parentheses w switch w unused function w noun used label w noun used parameter w unused variable w unused value w empty body w uninitialized w conditional uninitialized w no unknown prag mas w no shadow w no four char constants w no conversion w constant conversion win t conversion w boo l conversion we num conversion w no float conversion w non literal null conversion w obj c literal conversion w shorten 64 to 32 w pointer sign w no newline e of w no selector w no strict selector match w undeclared selector w deprecated implementations d pod configuration debug 1 d debug 1 d cocoa pods 1 do bj cold dispatch prototypes 0 is ys root applications x code app contents developer platforms iphone simulator platform developers dk s iphone simulator 144 sdk f as m blocks f strict aliasing w protocol w deprecated declarations g w no sign conversion w infinite recursion w comma w block capture auto releasing w strict prototypes w no semicolon before method body w unguarded availability fob jc abi version 2 fob jc legacy dispatch i quote users galland s library developer x code derived data runner dnc aw uml uuo mep gz ew bx bgh tim uf build intermediates no in dex pods build debug iphone simulator appa u th build appa u th generated files h map i users galland s library developer x code derived data runner dnc aw uml uuo mep gz ew bx bgh tim uf build intermediates no index pods build debug iphone simulator appa u th build appa u th own target headers h map i users galland s library developer x code derived data runner dnc aw uml uuo mep gz ew bx bgh tim uf build intermediates no index pods build debug iphone simulator appa u th build appa ut hall non framework target headers h map ivf s overlay users galland s library developer x code derived data runner dnc aw uml uuo mep gz ew bx bgh tim uf build intermediates no in dex pods build debug iphone simulator appa u th build all product headers yam l i quote users galland s library developer x code derived data runner dnc aw uml uuo mep gz ew bx bgh tim uf build intermediates no in dex pods build debug iphone simulator appa u th build appa u th project headers h map i users galland s documents church notes app flutter build ios debug iphone simulator appa u th include i users galland s library developer x code derived data runner dnc aw uml uuo mep gz ew bx bgh tim uf build intermediates no index pods build debug iphone simulator appa u th build derived sources normal i 386 i users galland s library developer x code derived data runner dnc aw uml uuo mep gz ew bx bgh tim uf build intermediates no index pods build debug iphone simulator appa u th build derived sources i 386 i users galland s library developer x code derived data runner dnc aw uml uuo mep gz ew bx bgh tim uf build intermediates no index pods build debug iphone simulator appa u th build derived sources f users galland s documents church notes app flutter build ios debug iphone simulator appa u th include users galland s documents church notes app flutter ios pods target support files appa u th appa u th prefix p ch mm d mt dependencies mf users galland s library developer x code derived data runner dnc aw uml uuo mep gz ew bx bgh tim uf build intermediates no in dex pods build debug iphone simulator appa u th build objects normal i 386 oi did token d serialize diagnostics users galland s library developer x code derived data runner dnc aw uml uuo mep gz ew bx bgh tim uf build intermediates no in dex pods build debug iphone simulator appa u th build objects normal i 386 oi did token dia c users galland s documents church notes app flutter ios pods appa u th source appa u th core oi did token m o users galland s library developer x code derived data runner dnc aw uml uuo mep gz ew bx bgh tim uf build intermediates no in dex pods build debug iphone simulator appa u th build objects normal i 386 oi did token o warning the ios simulator deployment target iphone os deployment target is set to 80 but the range of supported deployment target versions is 90 to 14499 warning the ios simulator deployment target iphone os deployment target is set to 80 but the range of supported deployment target versions is 90 to 14499 warning the ios simulator deployment target iphone os deployment target is set to 80 but the range of supported deployment target versions is 90 to 14499 warning the ios simulator deployment target iphone os deployment target is set to 80 but the range of supported deployment target versions is 90 to 14499 warning the ios simulator deployment target iphone os deployment target is set to 80 but the range of supported deployment target versions is 90 to 14499 warning the ios simulator deployment target iphone os deployment target is set to 80 but the range of supported deployment target versions is 90 to 14499 warning the ios simulator deployment target iphone os deployment target is set to 80 but the range of supported deployment target versions is 90 to 14499 warning the ios simulator deployment target iphone os deployment target is set to 80 but the range of supported deployment target versions is 90 to 14499 warning the ios simulator deployment target iphone os deployment target is set to 80 but the range of supported deployment target versions is 90 to 14499 warning the ios simulator deployment target iphone os deployment target is set to 80 but the range of supported deployment target versions is 90 to 14499 warning the ios simulator deployment target iphone os deployment target is set to 80 but the range of supported deployment target versions is 90 to 14499 warning the ios simulator deployment target iphone os deployment target is set to 80 but the range of supported deployment target versions is 90 to 14499 warning the ios simulator deployment target iphone os deployment target is set to 80 but the range of supported deployment target versions is 90 to 14499 warning the ios simulator deployment target iphone os deployment target is set to 80 but the range of supported deployment target versions is 90 to 14499 warning the ios simulator deployment target iphone os deployment target is set to 80 but the range of supported deployment target versions is 90 to 14499 warning the ios simulator deployment target iphone os deployment target is set to 80 but the range of supported deployment target versions is 90 to 14499 warning the ios simulator deployment target iphone os deployment target is set to 80 but the range of supported deployment target versions is 90 to 14499 warning the ios simulator deployment target iphone os deployment target is set to 80 but the range of supported deployment target versions is 90 to 14499 warning the ios simulator deployment target iphone os deployment target is set to 80 but the range of supported deployment target versions is 90 to 14499 warning the ios simulator deployment target iphone os deployment target is set to 80 but the range of supported deployment target versions is 90 to 14499 warning the ios simulator deployment target iphone os deployment target is set to 80 but the range of supported deployment target versions is 90 to 14499 warning the ios simulator deployment target iphone os deployment target is set to 80 but the range of supported deployment target versions is 90 to 14499 2112 ms could not build the application for the simulator 6 ms error launching application on iphone 11 14 ms flutter run took 55549 ms 21 ms 0 throw tool exit 1 run command run command 2 flutter command run 3 app context run 4 command runner run command 5 flutter command runner run command 6 app context run 7 flutter command runner run command 8 run 9 app context run 10 main 269 ms ensure analytics sent 259 ms 3 ms running shutdown hooks shutdown hooks complete exiting with code 1 galland s tom smb p app'"
      ]
     },
     "execution_count": 15,
     "metadata": {},
     "output_type": "execute_result"
    }
   ],
   "source": [
    "cleaned_labeled_question.loc[1,'body']"
   ]
  },
  {
   "cell_type": "code",
   "execution_count": 16,
   "metadata": {},
   "outputs": [
    {
     "data": {
      "text/plain": [
       "1    14929\n",
       "0    14246\n",
       "Name: label, dtype: int64"
      ]
     },
     "execution_count": 16,
     "metadata": {},
     "output_type": "execute_result"
    }
   ],
   "source": [
    "cleaned_labeled_question['label'].value_counts()"
   ]
  },
  {
   "attachments": {},
   "cell_type": "markdown",
   "metadata": {},
   "source": [
    "Output Data"
   ]
  },
  {
   "cell_type": "code",
   "execution_count": 17,
   "metadata": {},
   "outputs": [],
   "source": [
    "cleaned_labeled_question.to_csv('4.0labeled_t+b_for_all.csv', index=False, encoding='utf-8')"
   ]
  },
  {
   "cell_type": "code",
   "execution_count": 18,
   "metadata": {},
   "outputs": [],
   "source": [
    "# testing = cleaned_labeled_question.sample(5000)\n",
    "# testing.to_csv('4.0testing_t+b.csv', index=False, encoding='utf-8')"
   ]
  },
  {
   "cell_type": "code",
   "execution_count": 19,
   "metadata": {},
   "outputs": [],
   "source": [
    "small = cleaned_labeled_question.sample(3000)\n",
    "small.to_csv('4.0labeled_t+b_small_sample.csv', index=False, encoding='utf-8')"
   ]
  },
  {
   "cell_type": "code",
   "execution_count": 20,
   "metadata": {},
   "outputs": [
    {
     "data": {
      "text/plain": [
       "1    1528\n",
       "0    1472\n",
       "Name: label, dtype: int64"
      ]
     },
     "execution_count": 20,
     "metadata": {},
     "output_type": "execute_result"
    }
   ],
   "source": [
    "small['label'].value_counts()"
   ]
  }
 ],
 "metadata": {
  "kernelspec": {
   "display_name": "Python 3",
   "language": "python",
   "name": "python3"
  },
  "language_info": {
   "codemirror_mode": {
    "name": "ipython",
    "version": 3
   },
   "file_extension": ".py",
   "mimetype": "text/x-python",
   "name": "python",
   "nbconvert_exporter": "python",
   "pygments_lexer": "ipython3",
   "version": "3.10.7"
  },
  "orig_nbformat": 4,
  "vscode": {
   "interpreter": {
    "hash": "21df974e0a74f845a944bf5b01184a15d40dbbd4d60d49093b5b181fb3151fe9"
   }
  }
 },
 "nbformat": 4,
 "nbformat_minor": 2
}
