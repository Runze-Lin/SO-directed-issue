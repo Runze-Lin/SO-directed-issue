{
 "cells": [
  {
   "cell_type": "code",
   "execution_count": 14,
   "metadata": {},
   "outputs": [],
   "source": [
    "import pandas as pd\n",
    "import random\n",
    "import wordninja"
   ]
  },
  {
   "cell_type": "code",
   "execution_count": 15,
   "metadata": {},
   "outputs": [],
   "source": [
    "pos_locations = ['positive data/spring-boot_labeled_sentences.csv','positive data/facebook_labeled_sentences.csv',\n",
    "                 'positive data/tensorflow_labeled_sentences.csv','positive data/vscode_labeled_sentences.csv',\n",
    "                 'positive data/flutter_labeled_sentences.csv']\n",
    "q_locations = ['data/spring-boot_PRs.txt','data/facebook_PRs.txt',\n",
    "               'data/tensorflow_PRs.txt','data/vscode_PRs.txt',\n",
    "               'data/flutter_PRs.txt']"
   ]
  },
  {
   "cell_type": "code",
   "execution_count": 16,
   "metadata": {},
   "outputs": [],
   "source": [
    "def get_dataset(loc1,loc2):\n",
    "    df = pd.read_csv(loc1)\n",
    "    df2 = pd.read_table(loc2, sep = ',')\n",
    "    issue_id = df.values[:,1].tolist()\n",
    "    lbl_lst = df.values[:,3].tolist()\n",
    "    all_issue = df2.values[:,1].tolist()\n",
    "    question_lst = df2.values[:,11].tolist()\n",
    "\n",
    "    newdic = dict(zip(issue_id,lbl_lst))\n",
    "    pos_issue = list(set([i for i,j in newdic.items() if j == 0]))\n",
    "    all_neg_issue = list(set([x for x in all_issue if x not in issue_id]))\n",
    "    neg_issue = random.sample(all_neg_issue,len(pos_issue))\n",
    "    pos_question = [q for q,i in zip(question_lst,all_issue) if i in pos_issue]\n",
    "    neg_question = [q for q,i in zip(question_lst,all_issue) if i in neg_issue]\n",
    "    question_lst= pos_question + neg_question\n",
    "    lable_lst = [1 for i in range(len(pos_question))] + [0 for i in range(len(neg_question))]\n",
    "    \n",
    "    return question_lst,lable_lst\n"
   ]
  },
  {
   "cell_type": "code",
   "execution_count": 17,
   "metadata": {},
   "outputs": [
    {
     "name": "stdout",
     "output_type": "stream",
     "text": [
      "29853\n",
      "29853\n"
     ]
    }
   ],
   "source": [
    "question_list = []\n",
    "lable_list = []\n",
    "for loc1,loc2 in zip(pos_locations,q_locations):\n",
    "    q1,l1 = get_dataset(loc1,loc2)\n",
    "    question_list+=q1\n",
    "    lable_list+=l1\n",
    "    \n",
    "print(len(question_list))\n",
    "print(len(lable_list))\n"
   ]
  },
  {
   "cell_type": "code",
   "execution_count": 18,
   "metadata": {},
   "outputs": [
    {
     "name": "stdout",
     "output_type": "stream",
     "text": [
      "(29853, 2)\n",
      "(28912, 2)\n"
     ]
    },
    {
     "data": {
      "text/html": [
       "<div>\n",
       "<style scoped>\n",
       "    .dataframe tbody tr th:only-of-type {\n",
       "        vertical-align: middle;\n",
       "    }\n",
       "\n",
       "    .dataframe tbody tr th {\n",
       "        vertical-align: top;\n",
       "    }\n",
       "\n",
       "    .dataframe thead th {\n",
       "        text-align: right;\n",
       "    }\n",
       "</style>\n",
       "<table border=\"1\" class=\"dataframe\">\n",
       "  <thead>\n",
       "    <tr style=\"text-align: right;\">\n",
       "      <th></th>\n",
       "      <th>question</th>\n",
       "      <th>label</th>\n",
       "    </tr>\n",
       "  </thead>\n",
       "  <tbody>\n",
       "    <tr>\n",
       "      <th>0</th>\n",
       "      <td>&lt;!-- thanks for raising a spring boot issue. p...</td>\n",
       "      <td>1</td>\n",
       "    </tr>\n",
       "    <tr>\n",
       "      <th>1</th>\n",
       "      <td>my code is like this  ```java @configuration @...</td>\n",
       "      <td>1</td>\n",
       "    </tr>\n",
       "    <tr>\n",
       "      <th>3</th>\n",
       "      <td>can i use a higher version of the `spring-boot...</td>\n",
       "      <td>1</td>\n",
       "    </tr>\n",
       "    <tr>\n",
       "      <th>4</th>\n",
       "      <td>i only found the documentation about authentic...</td>\n",
       "      <td>1</td>\n",
       "    </tr>\n",
       "    <tr>\n",
       "      <th>5</th>\n",
       "      <td>hi, i deployed a project made with https://sta...</td>\n",
       "      <td>1</td>\n",
       "    </tr>\n",
       "  </tbody>\n",
       "</table>\n",
       "</div>"
      ],
      "text/plain": [
       "                                            question  label\n",
       "0  <!-- thanks for raising a spring boot issue. p...      1\n",
       "1  my code is like this  ```java @configuration @...      1\n",
       "3  can i use a higher version of the `spring-boot...      1\n",
       "4  i only found the documentation about authentic...      1\n",
       "5  hi, i deployed a project made with https://sta...      1"
      ]
     },
     "execution_count": 18,
     "metadata": {},
     "output_type": "execute_result"
    }
   ],
   "source": [
    "labeled_question = pd.DataFrame({'question': question_list,'label':lable_list})\n",
    "\n",
    "print(labeled_question.shape)\n",
    "labeled_question.dropna(axis=0,how='any',inplace=True)\n",
    "labeled_question['question'] = labeled_question['question'].str.lower()\n",
    "print(labeled_question.shape)\n",
    "labeled_question.head()\n"
   ]
  },
  {
   "attachments": {},
   "cell_type": "markdown",
   "metadata": {},
   "source": [
    "Data Cleaning"
   ]
  },
  {
   "cell_type": "code",
   "execution_count": 19,
   "metadata": {},
   "outputs": [],
   "source": [
    "import nltk\n",
    "import contractions\n",
    "import inflect\n",
    "from nltk import word_tokenize, sent_tokenize\n",
    "from nltk.corpus import stopwords\n",
    "from nltk.stem import LancasterStemmer, WordNetLemmatizer\n",
    "from bs4 import BeautifulSoup\n",
    "import re, string, unicodedata"
   ]
  },
  {
   "cell_type": "code",
   "execution_count": 20,
   "metadata": {},
   "outputs": [],
   "source": [
    "def html_remover(data):\n",
    "  beauti = BeautifulSoup(data,'html.parser')\n",
    "  return beauti.get_text()\n",
    "\n",
    "# to remove URL\n",
    "def url_remover(data):\n",
    "  return re.sub(r'https\\S','',data)\n",
    "\n",
    "def web_associated(data):\n",
    "  text = html_remover(data)\n",
    "  text = url_remover(text)\n",
    "  return text"
   ]
  },
  {
   "cell_type": "code",
   "execution_count": 21,
   "metadata": {},
   "outputs": [],
   "source": [
    "def remove_round_brackets(data):\n",
    "  return re.sub('\\(.*?\\)','',data)\n",
    "\n",
    "def remove_punc(data):\n",
    "  trans = str.maketrans('','', string.punctuation)\n",
    "  return data.translate(trans)\n",
    "\n",
    "def white_space(data):\n",
    "  return ' '.join(data.split())\n",
    "\n",
    "def complete_noise(data):\n",
    "  new_data = remove_round_brackets(data)\n",
    "  new_data = remove_punc(new_data)\n",
    "  new_data = white_space(new_data)\n",
    "  return new_data"
   ]
  },
  {
   "cell_type": "code",
   "execution_count": 22,
   "metadata": {},
   "outputs": [
    {
     "name": "stderr",
     "output_type": "stream",
     "text": [
      "c:\\Users\\79105\\AppData\\Local\\Programs\\Python\\Python310\\lib\\site-packages\\bs4\\__init__.py:435: MarkupResemblesLocatorWarning: The input looks more like a filename than markup. You may want to open this file and pass the filehandle into Beautiful Soup.\n",
      "  warnings.warn(\n",
      "c:\\Users\\79105\\AppData\\Local\\Programs\\Python\\Python310\\lib\\site-packages\\bs4\\builder\\__init__.py:545: XMLParsedAsHTMLWarning: It looks like you're parsing an XML document using an HTML parser. If this really is an HTML document (maybe it's XHTML?), you can ignore or filter this warning. If it's XML, you should know that using an XML parser will be more reliable. To parse this document as XML, make sure you have the lxml package installed, and pass the keyword argument `features=\"xml\"` into the BeautifulSoup constructor.\n",
      "  warnings.warn(\n",
      "c:\\Users\\79105\\AppData\\Local\\Programs\\Python\\Python310\\lib\\site-packages\\bs4\\__init__.py:404: MarkupResemblesLocatorWarning: The input looks more like a URL than markup. You may want to use an HTTP client like requests to get the document behind the URL, and feed that document to Beautiful Soup.\n",
      "  warnings.warn(\n"
     ]
    },
    {
     "data": {
      "text/html": [
       "<div>\n",
       "<style scoped>\n",
       "    .dataframe tbody tr th:only-of-type {\n",
       "        vertical-align: middle;\n",
       "    }\n",
       "\n",
       "    .dataframe tbody tr th {\n",
       "        vertical-align: top;\n",
       "    }\n",
       "\n",
       "    .dataframe thead th {\n",
       "        text-align: right;\n",
       "    }\n",
       "</style>\n",
       "<table border=\"1\" class=\"dataframe\">\n",
       "  <thead>\n",
       "    <tr style=\"text-align: right;\">\n",
       "      <th></th>\n",
       "      <th>question</th>\n",
       "      <th>label</th>\n",
       "    </tr>\n",
       "  </thead>\n",
       "  <tbody>\n",
       "    <tr>\n",
       "      <th>1</th>\n",
       "      <td>my code is like this java configuration enable...</td>\n",
       "      <td>1</td>\n",
       "    </tr>\n",
       "    <tr>\n",
       "      <th>3</th>\n",
       "      <td>can i use a higher version of the springbootma...</td>\n",
       "      <td>1</td>\n",
       "    </tr>\n",
       "    <tr>\n",
       "      <th>4</th>\n",
       "      <td>i only found the documentation about authentic...</td>\n",
       "      <td>1</td>\n",
       "    </tr>\n",
       "    <tr>\n",
       "      <th>5</th>\n",
       "      <td>hi i deployed a project made with startspringi...</td>\n",
       "      <td>1</td>\n",
       "    </tr>\n",
       "    <tr>\n",
       "      <th>6</th>\n",
       "      <td>we have existing couple of spring applications...</td>\n",
       "      <td>1</td>\n",
       "    </tr>\n",
       "  </tbody>\n",
       "</table>\n",
       "</div>"
      ],
      "text/plain": [
       "                                            question  label\n",
       "1  my code is like this java configuration enable...      1\n",
       "3  can i use a higher version of the springbootma...      1\n",
       "4  i only found the documentation about authentic...      1\n",
       "5  hi i deployed a project made with startspringi...      1\n",
       "6  we have existing couple of spring applications...      1"
      ]
     },
     "execution_count": 22,
     "metadata": {},
     "output_type": "execute_result"
    }
   ],
   "source": [
    "def Data_cleaning(x):\n",
    "    return complete_noise(web_associated(x))\n",
    "\n",
    "for index,row in labeled_question.iterrows():\n",
    "    text = Data_cleaning(row['question'])\n",
    "    labeled_question.loc[index,'question'] = text\n",
    "\n",
    "cleaned_labeled_question = labeled_question.loc[labeled_question['question'].str.len()>10]\n",
    "cleaned_labeled_question.head()\n"
   ]
  },
  {
   "cell_type": "code",
   "execution_count": null,
   "metadata": {},
   "outputs": [],
   "source": [
    "def split_word(df):\n",
    "    df = df.apply(lambda x: ' '.join(wordninja.split(x)))\n",
    "    \n",
    "cleaned_labeled_question = split_word(cleaned_labeled_question['question'])"
   ]
  },
  {
   "cell_type": "code",
   "execution_count": null,
   "metadata": {},
   "outputs": [],
   "source": [
    "cleaned_labeled_question.loc[1,'question']"
   ]
  },
  {
   "cell_type": "code",
   "execution_count": null,
   "metadata": {},
   "outputs": [],
   "source": [
    "cleaned_labeled_question['label'].value_counts()"
   ]
  },
  {
   "attachments": {},
   "cell_type": "markdown",
   "metadata": {},
   "source": [
    "Output Data"
   ]
  },
  {
   "cell_type": "code",
   "execution_count": null,
   "metadata": {},
   "outputs": [],
   "source": [
    "# cleaned_labeled_question.to_csv('labeled_question_for_all.csv', index=False, encoding='utf-8')"
   ]
  },
  {
   "cell_type": "code",
   "execution_count": null,
   "metadata": {},
   "outputs": [],
   "source": [
    "# small_sample = cleaned_labeled_question.sample(3000)\n",
    "# small_sample.to_csv('labeled_question_small_sample.csv', index=False, encoding='utf-8')"
   ]
  }
 ],
 "metadata": {
  "kernelspec": {
   "display_name": "Python 3",
   "language": "python",
   "name": "python3"
  },
  "language_info": {
   "codemirror_mode": {
    "name": "ipython",
    "version": 3
   },
   "file_extension": ".py",
   "mimetype": "text/x-python",
   "name": "python",
   "nbconvert_exporter": "python",
   "pygments_lexer": "ipython3",
   "version": "3.10.7"
  },
  "orig_nbformat": 4,
  "vscode": {
   "interpreter": {
    "hash": "21df974e0a74f845a944bf5b01184a15d40dbbd4d60d49093b5b181fb3151fe9"
   }
  }
 },
 "nbformat": 4,
 "nbformat_minor": 2
}
