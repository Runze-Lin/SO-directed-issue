{
 "cells": [
  {
   "cell_type": "code",
   "execution_count": 47,
   "metadata": {},
   "outputs": [],
   "source": [
    "import pandas as pd\n",
    "import random\n",
    "import wordninja"
   ]
  },
  {
   "cell_type": "code",
   "execution_count": 48,
   "metadata": {},
   "outputs": [],
   "source": [
    "pos_locations = ['positive data/spring-boot_labeled_sentences.csv','positive data/facebook_labeled_sentences.csv',\n",
    "                 'positive data/tensorflow_labeled_sentences.csv','positive data/vscode_labeled_sentences.csv',\n",
    "                 'positive data/flutter_labeled_sentences.csv']\n",
    "q_locations = ['data/spring-boot_PRs.txt','data/facebook_PRs.txt',\n",
    "               'data/tensorflow_PRs.txt','data/vscode_PRs.txt',\n",
    "               'data/flutter_PRs.txt']"
   ]
  },
  {
   "cell_type": "code",
   "execution_count": 49,
   "metadata": {},
   "outputs": [],
   "source": [
    "def get_dataset(loc1,loc2):\n",
    "    df = pd.read_csv(loc1)\n",
    "    df2 = pd.read_table(loc2, sep = ',')\n",
    "    issue_id = df.values[:,1].tolist()\n",
    "    lbl_lst = df.values[:,3].tolist()\n",
    "    all_issue = df2.values[:,1].tolist()\n",
    "    question_lst = df2.values[:,11].tolist()\n",
    "    title_lst = df2.values[:,7].tolist()\n",
    "\n",
    "    newdic = dict(zip(issue_id,lbl_lst))\n",
    "    pos_issue = list(set([i for i,j in newdic.items() if j == 0]))\n",
    "    all_neg_issue = list(set([x for x in all_issue if x not in issue_id]))\n",
    "    neg_issue = random.sample(all_neg_issue,len(pos_issue))\n",
    "    pos_question = [q for t,q,i in zip(title_lst,question_lst,all_issue) if i in pos_issue]\n",
    "    pos_title = [t for t,q,i in zip(title_lst,question_lst,all_issue) if i in pos_issue]\n",
    "\n",
    "    neg_question = [q for t,q,i in zip(title_lst,question_lst,all_issue) if i in neg_issue]\n",
    "    neg_title = [t for t,q,i in zip(title_lst,question_lst,all_issue) if i in neg_issue]\n",
    "\n",
    "    title_lst = pos_title + neg_title\n",
    "    question_lst= pos_question + neg_question\n",
    "    lable_lst = [1 for i in range(len(pos_question))] + [0 for i in range(len(neg_question))]\n",
    "    \n",
    "    return title_lst,question_lst,lable_lst\n"
   ]
  },
  {
   "cell_type": "code",
   "execution_count": 50,
   "metadata": {},
   "outputs": [
    {
     "name": "stdout",
     "output_type": "stream",
     "text": [
      "29879\n",
      "29879\n",
      "29879\n"
     ]
    }
   ],
   "source": [
    "title_list = []\n",
    "question_list = []\n",
    "lable_list = []\n",
    "for loc1,loc2 in zip(pos_locations,q_locations):\n",
    "    t1,q1,l1 = get_dataset(loc1,loc2)\n",
    "    title_list +=t1\n",
    "    question_list+=q1\n",
    "    lable_list+=l1\n",
    "    \n",
    "print(len(title_list))\n",
    "print(len(question_list))\n",
    "print(len(lable_list))\n"
   ]
  },
  {
   "cell_type": "code",
   "execution_count": 51,
   "metadata": {},
   "outputs": [
    {
     "name": "stdout",
     "output_type": "stream",
     "text": [
      "(29879, 3)\n",
      "(28983, 3)\n"
     ]
    },
    {
     "data": {
      "text/html": [
       "<div>\n",
       "<style scoped>\n",
       "    .dataframe tbody tr th:only-of-type {\n",
       "        vertical-align: middle;\n",
       "    }\n",
       "\n",
       "    .dataframe tbody tr th {\n",
       "        vertical-align: top;\n",
       "    }\n",
       "\n",
       "    .dataframe thead th {\n",
       "        text-align: right;\n",
       "    }\n",
       "</style>\n",
       "<table border=\"1\" class=\"dataframe\">\n",
       "  <thead>\n",
       "    <tr style=\"text-align: right;\">\n",
       "      <th></th>\n",
       "      <th>title</th>\n",
       "      <th>question</th>\n",
       "      <th>label</th>\n",
       "    </tr>\n",
       "  </thead>\n",
       "  <tbody>\n",
       "    <tr>\n",
       "      <th>0</th>\n",
       "      <td>possible to use spring-boot on android develop...</td>\n",
       "      <td>&lt;!-- thanks for raising a spring boot issue. p...</td>\n",
       "      <td>1</td>\n",
       "    </tr>\n",
       "    <tr>\n",
       "      <th>1</th>\n",
       "      <td>how do i use a custom websockethandler when i ...</td>\n",
       "      <td>my code is like this  ```java @configuration @...</td>\n",
       "      <td>1</td>\n",
       "    </tr>\n",
       "    <tr>\n",
       "      <th>3</th>\n",
       "      <td>can i use a higher version of the `spring-boot...</td>\n",
       "      <td>can i use a higher version of the `spring-boot...</td>\n",
       "      <td>1</td>\n",
       "    </tr>\n",
       "    <tr>\n",
       "      <th>4</th>\n",
       "      <td>webflux functional endpoints authentication</td>\n",
       "      <td>i only found the documentation about authentic...</td>\n",
       "      <td>1</td>\n",
       "    </tr>\n",
       "    <tr>\n",
       "      <th>5</th>\n",
       "      <td>document that the minimum supported version of...</td>\n",
       "      <td>hi, i deployed a project made with https://sta...</td>\n",
       "      <td>1</td>\n",
       "    </tr>\n",
       "  </tbody>\n",
       "</table>\n",
       "</div>"
      ],
      "text/plain": [
       "                                               title  \\\n",
       "0  possible to use spring-boot on android develop...   \n",
       "1  how do i use a custom websockethandler when i ...   \n",
       "3  can i use a higher version of the `spring-boot...   \n",
       "4        webflux functional endpoints authentication   \n",
       "5  document that the minimum supported version of...   \n",
       "\n",
       "                                            question  label  \n",
       "0  <!-- thanks for raising a spring boot issue. p...      1  \n",
       "1  my code is like this  ```java @configuration @...      1  \n",
       "3  can i use a higher version of the `spring-boot...      1  \n",
       "4  i only found the documentation about authentic...      1  \n",
       "5  hi, i deployed a project made with https://sta...      1  "
      ]
     },
     "execution_count": 51,
     "metadata": {},
     "output_type": "execute_result"
    }
   ],
   "source": [
    "labeled_question = pd.DataFrame({'title':title_list,'question': question_list,'label':lable_list})\n",
    "\n",
    "print(labeled_question.shape)\n",
    "labeled_question.dropna(axis=0,how='any',inplace=True)\n",
    "labeled_question['question'] = labeled_question['question'].str.lower()\n",
    "labeled_question['title'] = labeled_question['title'].str.lower()\n",
    "print(labeled_question.shape)\n",
    "labeled_question.head()\n"
   ]
  },
  {
   "attachments": {},
   "cell_type": "markdown",
   "metadata": {},
   "source": [
    "Data Cleaning"
   ]
  },
  {
   "cell_type": "code",
   "execution_count": 53,
   "metadata": {},
   "outputs": [],
   "source": [
    "import nltk\n",
    "import contractions\n",
    "import inflect\n",
    "from nltk import word_tokenize, sent_tokenize\n",
    "from nltk.corpus import stopwords\n",
    "from nltk.stem import LancasterStemmer, WordNetLemmatizer\n",
    "from bs4 import BeautifulSoup\n",
    "import re, string, unicodedata"
   ]
  },
  {
   "cell_type": "code",
   "execution_count": 54,
   "metadata": {},
   "outputs": [],
   "source": [
    "stop_words_en = list(nltk.corpus.stopwords.words('english'))\n",
    "lemmatizer = nltk.stem.WordNetLemmatizer()\n",
    "\n",
    "def cleanHTML_rmStopWords_lemmatize(df):\n",
    "    df = df.apply(lambda x: re.sub(re.compile('<.*?>'), '', str(x)))\n",
    "    df = df.apply(lambda x: re.sub(r'http\\S+', 'url', str(x)))\n",
    "    df = df.apply(lambda x: ' '.join(word for word in str(x).split() if word.lower() not in stop_words_en))\n",
    "    df = df.apply(lambda x: ' '.join(lemmatizer.lemmatize(word) for word in str(x).split()))\n",
    "    return df\n",
    "cleaned_questions = cleanHTML_rmStopWords_lemmatize(labeled_question['question'])\n",
    "cleaned_titles = cleanHTML_rmStopWords_lemmatize(labeled_question['title'])\n",
    "cleaned_labeled_question = pd.DataFrame({'title':cleaned_titles,'body': cleaned_questions, 'label': labeled_question['label']})\n",
    "cleaned_labeled_question = cleaned_labeled_question.loc[cleaned_labeled_question['body'].str.len()>10]"
   ]
  },
  {
   "cell_type": "code",
   "execution_count": 32,
   "metadata": {},
   "outputs": [
    {
     "data": {
      "text/plain": [
       "\" def html_remover(data):\\n  beauti = BeautifulSoup(data,'html.parser')\\n  return beauti.get_text()\\n\\n# to remove URL\\ndef url_remover(data):\\n  return re.sub(r'https\\\\S','',data)\\n\\ndef web_associated(data):\\n  text = html_remover(data)\\n  text = url_remover(text)\\n  return text \""
      ]
     },
     "execution_count": 32,
     "metadata": {},
     "output_type": "execute_result"
    }
   ],
   "source": [
    "\"\"\" def html_remover(data):\n",
    "  beauti = BeautifulSoup(data,'html.parser')\n",
    "  return beauti.get_text()\n",
    "\n",
    "# to remove URL\n",
    "def url_remover(data):\n",
    "  return re.sub(r'https\\S','',data)\n",
    "\n",
    "def web_associated(data):\n",
    "  text = html_remover(data)\n",
    "  text = url_remover(text)\n",
    "  return text \"\"\""
   ]
  },
  {
   "cell_type": "code",
   "execution_count": 33,
   "metadata": {},
   "outputs": [
    {
     "data": {
      "text/plain": [
       "\" def remove_round_brackets(data):\\n  return re.sub('\\\\(.*?\\\\)','',data)\\n\\ndef remove_punc(data):\\n  trans = str.maketrans('','', string.punctuation)\\n  return data.translate(trans)\\n\\ndef white_space(data):\\n  return ' '.join(data.split())\\n\\ndef complete_noise(data):\\n  new_data = remove_round_brackets(data)\\n  new_data = remove_punc(new_data)\\n  new_data = white_space(new_data)\\n  return new_data \""
      ]
     },
     "execution_count": 33,
     "metadata": {},
     "output_type": "execute_result"
    }
   ],
   "source": [
    "\"\"\" def remove_round_brackets(data):\n",
    "  return re.sub('\\(.*?\\)','',data)\n",
    "\n",
    "def remove_punc(data):\n",
    "  trans = str.maketrans('','', string.punctuation)\n",
    "  return data.translate(trans)\n",
    "\n",
    "def white_space(data):\n",
    "  return ' '.join(data.split())\n",
    "\n",
    "def complete_noise(data):\n",
    "  new_data = remove_round_brackets(data)\n",
    "  new_data = remove_punc(new_data)\n",
    "  new_data = white_space(new_data)\n",
    "  return new_data \"\"\""
   ]
  },
  {
   "cell_type": "code",
   "execution_count": 34,
   "metadata": {},
   "outputs": [
    {
     "data": {
      "text/plain": [
       "\" def Data_cleaning(x):\\n    return complete_noise(web_associated(x))\\n\\nfor index,row in labeled_question.iterrows():\\n    text = Data_cleaning(row['question'])\\n    #text1 = wordninja.split(text)\\n    #text2 = ' '.join(text1)\\n    labeled_question.loc[index,'question'] = text\\n\\ncleaned_labeled_question = labeled_question.loc[labeled_question['question'].str.len()>10]\\ncleaned_labeled_question.head()\\n \""
      ]
     },
     "execution_count": 34,
     "metadata": {},
     "output_type": "execute_result"
    }
   ],
   "source": [
    "\"\"\" def Data_cleaning(x):\n",
    "    return complete_noise(web_associated(x))\n",
    "\n",
    "for index,row in labeled_question.iterrows():\n",
    "    text = Data_cleaning(row['question'])\n",
    "    #text1 = wordninja.split(text)\n",
    "    #text2 = ' '.join(text1)\n",
    "    labeled_question.loc[index,'question'] = text\n",
    "\n",
    "cleaned_labeled_question = labeled_question.loc[labeled_question['question'].str.len()>10]\n",
    "cleaned_labeled_question.head()\n",
    " \"\"\""
   ]
  },
  {
   "cell_type": "code",
   "execution_count": 56,
   "metadata": {},
   "outputs": [
    {
     "data": {
      "text/html": [
       "<div>\n",
       "<style scoped>\n",
       "    .dataframe tbody tr th:only-of-type {\n",
       "        vertical-align: middle;\n",
       "    }\n",
       "\n",
       "    .dataframe tbody tr th {\n",
       "        vertical-align: top;\n",
       "    }\n",
       "\n",
       "    .dataframe thead th {\n",
       "        text-align: right;\n",
       "    }\n",
       "</style>\n",
       "<table border=\"1\" class=\"dataframe\">\n",
       "  <thead>\n",
       "    <tr style=\"text-align: right;\">\n",
       "      <th></th>\n",
       "      <th>title</th>\n",
       "      <th>body</th>\n",
       "      <th>label</th>\n",
       "    </tr>\n",
       "  </thead>\n",
       "  <tbody>\n",
       "    <tr>\n",
       "      <th>1</th>\n",
       "      <td>use custom websockethandler configure websocke...</td>\n",
       "      <td>code like ```java @configuration @enablewebsoc...</td>\n",
       "      <td>1</td>\n",
       "    </tr>\n",
       "    <tr>\n",
       "      <th>3</th>\n",
       "      <td>use higher version `spring-boot-maven-plugin` ...</td>\n",
       "      <td>use higher version `spring-boot-maven-plugin` ...</td>\n",
       "      <td>1</td>\n",
       "    </tr>\n",
       "    <tr>\n",
       "      <th>4</th>\n",
       "      <td>webflux functional endpoint authentication</td>\n",
       "      <td>found documentation authentication controller ...</td>\n",
       "      <td>1</td>\n",
       "    </tr>\n",
       "    <tr>\n",
       "      <th>5</th>\n",
       "      <td>document minimum supported version kotlin 1.6</td>\n",
       "      <td>hi, deployed project made url / 17 java, kotli...</td>\n",
       "      <td>1</td>\n",
       "    </tr>\n",
       "    <tr>\n",
       "      <th>6</th>\n",
       "      <td>anyway override filterbeanregistrations associ...</td>\n",
       "      <td>existing couple spring application extends spr...</td>\n",
       "      <td>1</td>\n",
       "    </tr>\n",
       "  </tbody>\n",
       "</table>\n",
       "</div>"
      ],
      "text/plain": [
       "                                               title  \\\n",
       "1  use custom websockethandler configure websocke...   \n",
       "3  use higher version `spring-boot-maven-plugin` ...   \n",
       "4         webflux functional endpoint authentication   \n",
       "5      document minimum supported version kotlin 1.6   \n",
       "6  anyway override filterbeanregistrations associ...   \n",
       "\n",
       "                                                body  label  \n",
       "1  code like ```java @configuration @enablewebsoc...      1  \n",
       "3  use higher version `spring-boot-maven-plugin` ...      1  \n",
       "4  found documentation authentication controller ...      1  \n",
       "5  hi, deployed project made url / 17 java, kotli...      1  \n",
       "6  existing couple spring application extends spr...      1  "
      ]
     },
     "execution_count": 56,
     "metadata": {},
     "output_type": "execute_result"
    }
   ],
   "source": [
    "cleaned_labeled_question.head()"
   ]
  },
  {
   "cell_type": "code",
   "execution_count": 57,
   "metadata": {},
   "outputs": [
    {
     "data": {
      "text/plain": [
       "'code like ```java @configuration @enablewebsocketmessagebroker public class websocketconfig implement websocketmessagebrokerconfigurer { @override public void registerstompendpoints(stompendpointregistry stompendpointregistry) { stompendpointregistry.addendpoint(\"/web-socket\") .setallowedoriginpatterns(\"*\") .addinterceptors(websocketinterceptor()); } @bean public websockethandler websockethandler() { return new mywebsockethandler(); } @bean public handshakeinterceptor websocketinterceptor() { return new mywebsocketinterceptor(); } } ``` default, subprotocolwebsockethandler used. want use custom websockethandler. configure take effect'"
      ]
     },
     "execution_count": 57,
     "metadata": {},
     "output_type": "execute_result"
    }
   ],
   "source": [
    "cleaned_labeled_question.loc[1,'body']"
   ]
  },
  {
   "cell_type": "code",
   "execution_count": 58,
   "metadata": {},
   "outputs": [
    {
     "data": {
      "text/plain": [
       "1    14530\n",
       "0    14173\n",
       "Name: label, dtype: int64"
      ]
     },
     "execution_count": 58,
     "metadata": {},
     "output_type": "execute_result"
    }
   ],
   "source": [
    "cleaned_labeled_question['label'].value_counts()"
   ]
  },
  {
   "attachments": {},
   "cell_type": "markdown",
   "metadata": {},
   "source": [
    "Output Data"
   ]
  },
  {
   "cell_type": "code",
   "execution_count": 59,
   "metadata": {},
   "outputs": [],
   "source": [
    "cleaned_labeled_question.to_csv('labeled_t+b_for_all.csv', index=False, encoding='utf-8')"
   ]
  },
  {
   "cell_type": "code",
   "execution_count": 60,
   "metadata": {},
   "outputs": [],
   "source": [
    "small_sample = cleaned_labeled_question.sample(3000)\n",
    "small_sample.to_csv('labeled_t+b_small_sample.csv', index=False, encoding='utf-8')"
   ]
  },
  {
   "cell_type": "code",
   "execution_count": 61,
   "metadata": {},
   "outputs": [],
   "source": [
    "mid_sample = cleaned_labeled_question.sample(10000)\n",
    "mid_sample.to_csv('labeled_t+b_mid_sample.csv', index=False, encoding='utf-8')"
   ]
  },
  {
   "cell_type": "code",
   "execution_count": 62,
   "metadata": {},
   "outputs": [
    {
     "data": {
      "text/plain": [
       "1    5013\n",
       "0    4987\n",
       "Name: label, dtype: int64"
      ]
     },
     "execution_count": 62,
     "metadata": {},
     "output_type": "execute_result"
    }
   ],
   "source": [
    "mid_sample['label'].value_counts()"
   ]
  },
  {
   "cell_type": "code",
   "execution_count": 63,
   "metadata": {},
   "outputs": [
    {
     "data": {
      "text/plain": [
       "1    1576\n",
       "0    1424\n",
       "Name: label, dtype: int64"
      ]
     },
     "execution_count": 63,
     "metadata": {},
     "output_type": "execute_result"
    }
   ],
   "source": [
    "small_sample['label'].value_counts()"
   ]
  },
  {
   "cell_type": "code",
   "execution_count": 65,
   "metadata": {},
   "outputs": [
    {
     "data": {
      "text/plain": [
       "10000"
      ]
     },
     "execution_count": 65,
     "metadata": {},
     "output_type": "execute_result"
    }
   ],
   "source": [
    "tl = mid_sample['title'].to_list()\n",
    "ql = mid_sample['body'].to_list()\n",
    "comlst = []\n",
    "for i,j in zip(tl,ql):\n",
    "    com = i + j\n"
   ]
  }
 ],
 "metadata": {
  "kernelspec": {
   "display_name": "Python 3",
   "language": "python",
   "name": "python3"
  },
  "language_info": {
   "codemirror_mode": {
    "name": "ipython",
    "version": 3
   },
   "file_extension": ".py",
   "mimetype": "text/x-python",
   "name": "python",
   "nbconvert_exporter": "python",
   "pygments_lexer": "ipython3",
   "version": "3.10.7"
  },
  "orig_nbformat": 4,
  "vscode": {
   "interpreter": {
    "hash": "21df974e0a74f845a944bf5b01184a15d40dbbd4d60d49093b5b181fb3151fe9"
   }
  }
 },
 "nbformat": 4,
 "nbformat_minor": 2
}
