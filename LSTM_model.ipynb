{
 "cells": [
  {
   "cell_type": "code",
   "execution_count": 1,
   "metadata": {},
   "outputs": [],
   "source": [
    "import pandas as pd\n",
    "import numpy as np"
   ]
  },
  {
   "cell_type": "code",
   "execution_count": 2,
   "metadata": {},
   "outputs": [],
   "source": [
    "x_tr_title_id = np.load('E:/qrf/Lab Stuff/newDataset/x_tr_title_id.npy')\n",
    "x_vl_title_id = np.load('E:/qrf/Lab Stuff/newDataset/x_vl_title_id.npy')\n",
    "x_tr_body_id = np.load('E:/qrf/Lab Stuff/newDataset/x_tr_body_id.npy')\n",
    "x_vl_body_id = np.load('E:/qrf/Lab Stuff/newDataset/x_vl_body_id.npy')\n",
    "y_tr = np.load('E:/qrf/Lab Stuff/newDataset/y_tr.npy')\n",
    "y_vl = np.load('E:/qrf/Lab Stuff/newDataset/y_vl.npy')"
   ]
  },
  {
   "cell_type": "code",
   "execution_count": 3,
   "metadata": {
    "scrolled": true
   },
   "outputs": [
    {
     "name": "stdout",
     "output_type": "stream",
     "text": [
      "2.6.0\n",
      "Model: \"model\"\n",
      "__________________________________________________________________________________________________\n",
      "Layer (type)                    Output Shape         Param #     Connected to                     \n",
      "==================================================================================================\n",
      "input_1 (InputLayer)            [(None, 100)]        0                                            \n",
      "__________________________________________________________________________________________________\n",
      "input_2 (InputLayer)            [(None, 100)]        0                                            \n",
      "__________________________________________________________________________________________________\n",
      "embedding (Embedding)           (None, 100, 5)       50000       input_1[0][0]                    \n",
      "__________________________________________________________________________________________________\n",
      "embedding_1 (Embedding)         (None, 100, 5)       50000       input_2[0][0]                    \n",
      "__________________________________________________________________________________________________\n",
      "bidirectional (Bidirectional)   (None, 100, 64)      9728        embedding[0][0]                  \n",
      "__________________________________________________________________________________________________\n",
      "bidirectional_1 (Bidirectional) (None, 100, 64)      9728        embedding_1[0][0]                \n",
      "__________________________________________________________________________________________________\n",
      "flatten (Flatten)               (None, 6400)         0           bidirectional[0][0]              \n",
      "__________________________________________________________________________________________________\n",
      "flatten_1 (Flatten)             (None, 6400)         0           bidirectional_1[0][0]            \n",
      "__________________________________________________________________________________________________\n",
      "dense (Dense)                   (None, 32)           204832      flatten[0][0]                    \n",
      "__________________________________________________________________________________________________\n",
      "dense_1 (Dense)                 (None, 32)           204832      flatten_1[0][0]                  \n",
      "__________________________________________________________________________________________________\n",
      "tf.concat (TFOpLambda)          (None, 64)           0           dense[0][0]                      \n",
      "                                                                 dense_1[0][0]                    \n",
      "__________________________________________________________________________________________________\n",
      "dense_2 (Dense)                 (None, 1)            65          tf.concat[0][0]                  \n",
      "==================================================================================================\n",
      "Total params: 529,185\n",
      "Trainable params: 529,185\n",
      "Non-trainable params: 0\n",
      "__________________________________________________________________________________________________\n"
     ]
    }
   ],
   "source": [
    "from __future__ import absolute_import, division, print_function, unicode_literals\n",
    "import collections\n",
    "import matplotlib.pyplot as plt\n",
    "import numpy as np\n",
    "import tensorflow as tf\n",
    "from tensorflow import keras\n",
    "print(tf.__version__)\n",
    "from tensorflow.compat.v1.keras.layers import CuDNNGRU\n",
    "from tensorflow.keras.layers import Embedding, Dropout, LSTM, Dense, Bidirectional, Flatten\n",
    "from tensorflow.keras.optimizers import Adam\n",
    "\n",
    "in_title = keras.Input(batch_shape=(None, x_tr_title_id.shape[1]))\n",
    "in_body = keras.Input(batch_shape=(None, x_tr_body_id.shape[1]))\n",
    "\n",
    "\n",
    "#title\n",
    "embeddedT = keras.layers.Embedding(10000, 5)(in_title)\n",
    "averagedT = tf.reduce_mean(embeddedT, axis=1)\n",
    "lstmT = Bidirectional(LSTM(32, return_sequences = True))(embeddedT)\n",
    "flattenT = Flatten()(lstmT)\n",
    "fcT = Dense(32, activation='relu')(flattenT)\n",
    "\n",
    "\n",
    "#body\n",
    "embeddedB = keras.layers.Embedding(10000, 5)(in_body)\n",
    "averagedB = tf.reduce_mean(embeddedB, axis=1)\n",
    "lstmB = Bidirectional(LSTM(32, return_sequences = True))(embeddedB)\n",
    "flattenB = Flatten()(lstmB)\n",
    "fcB = Dense(32, activation='relu')(flattenB)\n",
    "\n",
    "\n",
    "#fused\n",
    "fused = tf.concat([fcT, fcB], axis=-1)\n",
    "p_stackOverflow = Dense(1, activation='sigmoid')(fused)\n",
    "\n",
    "\n",
    "model = keras.Model(\n",
    "    inputs={\n",
    "        'title': in_title,\n",
    "        'body': in_body,\n",
    "        },\n",
    "        outputs=p_stackOverflow\n",
    ")\n",
    "\n",
    "model.compile(\n",
    "    optimizer=Adam(),\n",
    "    loss='binary_crossentropy',\n",
    "    metrics=['accuracy', 'AUC']\n",
    ")\n",
    "\n",
    "model.summary()"
   ]
  },
  {
   "cell_type": "code",
   "execution_count": 4,
   "metadata": {},
   "outputs": [
    {
     "name": "stdout",
     "output_type": "stream",
     "text": [
      "Epoch 1/10\n",
      "2021/2021 [==============================] - 463s 225ms/step - loss: 0.2376 - accuracy: 0.9054 - auc: 0.9650 - val_loss: 0.2048 - val_accuracy: 0.9206 - val_auc: 0.9734\n",
      "Epoch 2/10\n",
      "2021/2021 [==============================] - 448s 221ms/step - loss: 0.1900 - accuracy: 0.9277 - auc: 0.9770 - val_loss: 0.2028 - val_accuracy: 0.9214 - val_auc: 0.9746c: 0.977 - ETA: 39s - loss: 0.1898 - accuracy: 0.9277 - auc - ETA: 38s - loss: 0.1897 - - ETA: 31s - loss: 0.1898 - accuracy: 0.9277 - auc:  - ETA: 30s - loss: 0. - ETA: 4s - los\n",
      "Epoch 3/10\n",
      "2021/2021 [==============================] - 426s 211ms/step - loss: 0.1717 - accuracy: 0.9351 - auc: 0.9810 - val_loss: 0.1990 - val_accuracy: 0.9234 - val_auc: 0.9752\n",
      "Epoch 4/10\n",
      "2021/2021 [==============================] - 410s 203ms/step - loss: 0.1535 - accuracy: 0.9423 - auc: 0.9847 - val_loss: 0.2046 - val_accuracy: 0.9211 - val_auc: 0.9743\n",
      "Epoch 5/10\n",
      "2021/2021 [==============================] - 442s 219ms/step - loss: 0.1360 - accuracy: 0.9497 - auc: 0.9878 - val_loss: 0.2168 - val_accuracy: 0.9167 - val_auc: 0.9717\n"
     ]
    }
   ],
   "source": [
    "history = model.fit(\n",
    "    \n",
    "    x={\n",
    "        'title': x_tr_title_id,\n",
    "        'body': x_tr_body_id,\n",
    "    },\n",
    "    \n",
    "    y=y_tr,\n",
    "    \n",
    "    epochs=10,\n",
    "    batch_size=128,\n",
    "    \n",
    "    validation_data=({'title': x_vl_title_id,\n",
    "                      'body': x_vl_body_id,\n",
    "                     },\n",
    "                     \n",
    "                     y_vl),\n",
    "    \n",
    "    callbacks=[\n",
    "        tf.keras.callbacks.EarlyStopping(monitor='val_loss', patience=2, restore_best_weights=True)\n",
    "    ],\n",
    "\n",
    "    verbose=1\n",
    ")"
   ]
  }
 ],
 "metadata": {
  "kernelspec": {
   "display_name": "Python 3.9.12 ('CISC880_SO_Directed_Issues')",
   "language": "python",
   "name": "python3"
  },
  "language_info": {
   "codemirror_mode": {
    "name": "ipython",
    "version": 3
   },
   "file_extension": ".py",
   "mimetype": "text/x-python",
   "name": "python",
   "nbconvert_exporter": "python",
   "pygments_lexer": "ipython3",
   "version": "3.9.12"
  },
  "vscode": {
   "interpreter": {
    "hash": "9d165d7b32b707b5ef0415ea55472466dce050ae69047a3fe51c46091313b5ef"
   }
  }
 },
 "nbformat": 4,
 "nbformat_minor": 4
}
