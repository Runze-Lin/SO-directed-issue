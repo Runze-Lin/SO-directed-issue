{
 "cells": [
  {
   "cell_type": "code",
   "execution_count": 8,
   "metadata": {},
   "outputs": [],
   "source": [
    "import pandas as pd\n",
    "import numpy as np\n",
    "from sklearn.model_selection import train_test_split"
   ]
  },
  {
   "cell_type": "code",
   "execution_count": 9,
   "metadata": {},
   "outputs": [],
   "source": [
    "df = pd.read_csv(\"E:/qrf/Lab Stuff/newDataset/labeled_t+b_for_all.csv\")"
   ]
  },
  {
   "cell_type": "code",
   "execution_count": 10,
   "metadata": {},
   "outputs": [
    {
     "name": "stdout",
     "output_type": "stream",
     "text": [
      "0        1\n",
      "1        1\n",
      "2        1\n",
      "3        1\n",
      "4        1\n",
      "        ..\n",
      "28698    0\n",
      "28699    0\n",
      "28700    0\n",
      "28701    0\n",
      "28702    0\n",
      "Name: label, Length: 28703, dtype: int64\n"
     ]
    },
    {
     "ename": "AttributeError",
     "evalue": "'DataFrame' object has no attribute 'Title'",
     "output_type": "error",
     "traceback": [
      "\u001b[1;31m---------------------------------------------------------------------------\u001b[0m",
      "\u001b[1;31mAttributeError\u001b[0m                            Traceback (most recent call last)",
      "\u001b[1;32me:\\qrf\\Lab Stuff\\newDataset\\LSTM_dataset_gen.ipynb Cell 3\u001b[0m in \u001b[0;36m<cell line: 4>\u001b[1;34m()\u001b[0m\n\u001b[0;32m      <a href='vscode-notebook-cell:/e%3A/qrf/Lab%20Stuff/newDataset/LSTM_dataset_gen.ipynb#W3sZmlsZQ%3D%3D?line=1'>2</a>\u001b[0m \u001b[39mprint\u001b[39m(y)\n\u001b[0;32m      <a href='vscode-notebook-cell:/e%3A/qrf/Lab%20Stuff/newDataset/LSTM_dataset_gen.ipynb#W3sZmlsZQ%3D%3D?line=2'>3</a>\u001b[0m x \u001b[39m=\u001b[39m df\u001b[39m.\u001b[39mdrop(\u001b[39m'\u001b[39m\u001b[39mlabel\u001b[39m\u001b[39m'\u001b[39m, axis\u001b[39m=\u001b[39m\u001b[39m1\u001b[39m)\n\u001b[1;32m----> <a href='vscode-notebook-cell:/e%3A/qrf/Lab%20Stuff/newDataset/LSTM_dataset_gen.ipynb#W3sZmlsZQ%3D%3D?line=3'>4</a>\u001b[0m x_title \u001b[39m=\u001b[39m x\u001b[39m.\u001b[39;49mTitle\u001b[39m.\u001b[39mastype(\u001b[39m'\u001b[39m\u001b[39mstr\u001b[39m\u001b[39m'\u001b[39m)\n\u001b[0;32m      <a href='vscode-notebook-cell:/e%3A/qrf/Lab%20Stuff/newDataset/LSTM_dataset_gen.ipynb#W3sZmlsZQ%3D%3D?line=4'>5</a>\u001b[0m x_body \u001b[39m=\u001b[39m x\u001b[39m.\u001b[39mBody\u001b[39m.\u001b[39mastype(\u001b[39m'\u001b[39m\u001b[39mstr\u001b[39m\u001b[39m'\u001b[39m)\n",
      "File \u001b[1;32md:\\Anaconda3\\envs\\CISC880_SO_Directed_Issues\\lib\\site-packages\\pandas\\core\\generic.py:5575\u001b[0m, in \u001b[0;36mNDFrame.__getattr__\u001b[1;34m(self, name)\u001b[0m\n\u001b[0;32m   5568\u001b[0m \u001b[39mif\u001b[39;00m (\n\u001b[0;32m   5569\u001b[0m     name \u001b[39mnot\u001b[39;00m \u001b[39min\u001b[39;00m \u001b[39mself\u001b[39m\u001b[39m.\u001b[39m_internal_names_set\n\u001b[0;32m   5570\u001b[0m     \u001b[39mand\u001b[39;00m name \u001b[39mnot\u001b[39;00m \u001b[39min\u001b[39;00m \u001b[39mself\u001b[39m\u001b[39m.\u001b[39m_metadata\n\u001b[0;32m   5571\u001b[0m     \u001b[39mand\u001b[39;00m name \u001b[39mnot\u001b[39;00m \u001b[39min\u001b[39;00m \u001b[39mself\u001b[39m\u001b[39m.\u001b[39m_accessors\n\u001b[0;32m   5572\u001b[0m     \u001b[39mand\u001b[39;00m \u001b[39mself\u001b[39m\u001b[39m.\u001b[39m_info_axis\u001b[39m.\u001b[39m_can_hold_identifiers_and_holds_name(name)\n\u001b[0;32m   5573\u001b[0m ):\n\u001b[0;32m   5574\u001b[0m     \u001b[39mreturn\u001b[39;00m \u001b[39mself\u001b[39m[name]\n\u001b[1;32m-> 5575\u001b[0m \u001b[39mreturn\u001b[39;00m \u001b[39mobject\u001b[39;49m\u001b[39m.\u001b[39;49m\u001b[39m__getattribute__\u001b[39;49m(\u001b[39mself\u001b[39;49m, name)\n",
      "\u001b[1;31mAttributeError\u001b[0m: 'DataFrame' object has no attribute 'Title'"
     ]
    }
   ],
   "source": [
    "y = df['label']\n",
    "print(y)\n",
    "x = df.drop('label', axis=1)\n",
    "x_title = x.title.astype('str')\n",
    "x_body = x.body.astype('str')"
   ]
  },
  {
   "cell_type": "code",
   "execution_count": null,
   "metadata": {},
   "outputs": [],
   "source": [
    "x_tr_title, x_vl_title, x_tr_body, x_vl_body, y_tr, y_vl = train_test_split(\n",
    "    x_title, \n",
    "    x_body,\n",
    "    y,\n",
    "    test_size=0.2)"
   ]
  },
  {
   "cell_type": "code",
   "execution_count": null,
   "metadata": {},
   "outputs": [],
   "source": [
    "from tensorflow.keras.preprocessing.text import Tokenizer\n",
    "from tensorflow.keras.preprocessing.sequence import pad_sequences\n",
    "\n",
    "vocab_size = 10000\n",
    "max_len = 100\n",
    "\n",
    "# Create tokenization for title and body text dats\n",
    "titletokenizer = Tokenizer(num_words=vocab_size)\n",
    "titletokenizer.fit_on_texts(x_tr_title)\n",
    "bodytokenizer = Tokenizer(num_words=vocab_size)\n",
    "bodytokenizer.fit_on_texts(x_tr_body)\n",
    "\n",
    "# Convert text to padded sequences\n",
    "def _preprocess(list_of_text, tok):\n",
    "    return pad_sequences(\n",
    "        tok.texts_to_sequences(list_of_text),\n",
    "        maxlen=max_len,\n",
    "        padding='post',\n",
    "    )\n",
    "\n",
    "x_tr_title_id = _preprocess(x_tr_title, titletokenizer)\n",
    "x_vl_title_id = _preprocess(x_vl_title, titletokenizer)\n",
    "x_tr_body_id = _preprocess(x_tr_body, bodytokenizer)\n",
    "x_vl_body_id = _preprocess(x_vl_body, bodytokenizer)"
   ]
  },
  {
   "cell_type": "code",
   "execution_count": null,
   "metadata": {},
   "outputs": [],
   "source": [
    "# Save arrays in binary format\n",
    "\n",
    "np.save('x_tr_question_id.npy', x_tr_title_id)\n",
    "np.save('x_vl_question_id.npy', x_vl_title_id)\n",
    "np.save('x_tr_body_id.npy', x_tr_body_id)\n",
    "np.save('x_vl_body_id.npy', x_vl_body_id)\n",
    "np.save('y_tr.npy', y_tr)\n",
    "np.save('y_vl.npy', y_vl)"
   ]
  }
 ],
 "metadata": {
  "kernelspec": {
   "display_name": "CISC880_SO_Directed_Issues",
   "language": "python",
   "name": "python3"
  },
  "language_info": {
   "codemirror_mode": {
    "name": "ipython",
    "version": 3
   },
   "file_extension": ".py",
   "mimetype": "text/x-python",
   "name": "python",
   "nbconvert_exporter": "python",
   "pygments_lexer": "ipython3",
   "version": "3.9.12"
  },
  "orig_nbformat": 4
 },
 "nbformat": 4,
 "nbformat_minor": 2
}
